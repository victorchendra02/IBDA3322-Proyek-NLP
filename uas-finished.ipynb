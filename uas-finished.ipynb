{
  "nbformat": 4,
  "nbformat_minor": 0,
  "metadata": {
    "colab": {
      "provenance": [],
      "gpuType": "T4"
    },
    "kernelspec": {
      "name": "python3",
      "display_name": "Python 3"
    },
    "language_info": {
      "name": "python"
    },
    "gpuClass": "standard",
    "widgets": {
      "application/vnd.jupyter.widget-state+json": {
        "4e6964e9f3a544589c00ed8e35d4fcbd": {
          "model_module": "@jupyter-widgets/controls",
          "model_name": "HBoxModel",
          "model_module_version": "1.5.0",
          "state": {
            "_dom_classes": [],
            "_model_module": "@jupyter-widgets/controls",
            "_model_module_version": "1.5.0",
            "_model_name": "HBoxModel",
            "_view_count": null,
            "_view_module": "@jupyter-widgets/controls",
            "_view_module_version": "1.5.0",
            "_view_name": "HBoxView",
            "box_style": "",
            "children": [
              "IPY_MODEL_c6c75b9797bb43d2b22d4074cc9cb83a",
              "IPY_MODEL_2f429d5e631543468b78d80f4ae1fdc5",
              "IPY_MODEL_cca6b4a3fc33497286bb2fc433bebfcb"
            ],
            "layout": "IPY_MODEL_3bebf40be9c7424b8556f4b88c0d8837"
          }
        },
        "c6c75b9797bb43d2b22d4074cc9cb83a": {
          "model_module": "@jupyter-widgets/controls",
          "model_name": "HTMLModel",
          "model_module_version": "1.5.0",
          "state": {
            "_dom_classes": [],
            "_model_module": "@jupyter-widgets/controls",
            "_model_module_version": "1.5.0",
            "_model_name": "HTMLModel",
            "_view_count": null,
            "_view_module": "@jupyter-widgets/controls",
            "_view_module_version": "1.5.0",
            "_view_name": "HTMLView",
            "description": "",
            "description_tooltip": null,
            "layout": "IPY_MODEL_ed1e24fe281f4234b1cfa21901cc64a1",
            "placeholder": "​",
            "style": "IPY_MODEL_bdcb38924a66415dba543ccf541b8c67",
            "value": "Validation sanity check: 100%"
          }
        },
        "2f429d5e631543468b78d80f4ae1fdc5": {
          "model_module": "@jupyter-widgets/controls",
          "model_name": "FloatProgressModel",
          "model_module_version": "1.5.0",
          "state": {
            "_dom_classes": [],
            "_model_module": "@jupyter-widgets/controls",
            "_model_module_version": "1.5.0",
            "_model_name": "FloatProgressModel",
            "_view_count": null,
            "_view_module": "@jupyter-widgets/controls",
            "_view_module_version": "1.5.0",
            "_view_name": "ProgressView",
            "bar_style": "",
            "description": "",
            "description_tooltip": null,
            "layout": "IPY_MODEL_15de70b5b2844857b58b154f419d450a",
            "max": 2,
            "min": 0,
            "orientation": "horizontal",
            "style": "IPY_MODEL_7a9b4f22928c41d6b6fd738c2ef9482c",
            "value": 2
          }
        },
        "cca6b4a3fc33497286bb2fc433bebfcb": {
          "model_module": "@jupyter-widgets/controls",
          "model_name": "HTMLModel",
          "model_module_version": "1.5.0",
          "state": {
            "_dom_classes": [],
            "_model_module": "@jupyter-widgets/controls",
            "_model_module_version": "1.5.0",
            "_model_name": "HTMLModel",
            "_view_count": null,
            "_view_module": "@jupyter-widgets/controls",
            "_view_module_version": "1.5.0",
            "_view_name": "HTMLView",
            "description": "",
            "description_tooltip": null,
            "layout": "IPY_MODEL_f1d6a4df73e74108bd8fbffb04b56b6d",
            "placeholder": "​",
            "style": "IPY_MODEL_7a3bf7940ba445f1865103bfaed44dda",
            "value": " 2/2 [00:04&lt;00:00,  2.15s/it]"
          }
        },
        "3bebf40be9c7424b8556f4b88c0d8837": {
          "model_module": "@jupyter-widgets/base",
          "model_name": "LayoutModel",
          "model_module_version": "1.2.0",
          "state": {
            "_model_module": "@jupyter-widgets/base",
            "_model_module_version": "1.2.0",
            "_model_name": "LayoutModel",
            "_view_count": null,
            "_view_module": "@jupyter-widgets/base",
            "_view_module_version": "1.2.0",
            "_view_name": "LayoutView",
            "align_content": null,
            "align_items": null,
            "align_self": null,
            "border": null,
            "bottom": null,
            "display": "inline-flex",
            "flex": null,
            "flex_flow": "row wrap",
            "grid_area": null,
            "grid_auto_columns": null,
            "grid_auto_flow": null,
            "grid_auto_rows": null,
            "grid_column": null,
            "grid_gap": null,
            "grid_row": null,
            "grid_template_areas": null,
            "grid_template_columns": null,
            "grid_template_rows": null,
            "height": null,
            "justify_content": null,
            "justify_items": null,
            "left": null,
            "margin": null,
            "max_height": null,
            "max_width": null,
            "min_height": null,
            "min_width": null,
            "object_fit": null,
            "object_position": null,
            "order": null,
            "overflow": null,
            "overflow_x": null,
            "overflow_y": null,
            "padding": null,
            "right": null,
            "top": null,
            "visibility": "hidden",
            "width": "100%"
          }
        },
        "ed1e24fe281f4234b1cfa21901cc64a1": {
          "model_module": "@jupyter-widgets/base",
          "model_name": "LayoutModel",
          "model_module_version": "1.2.0",
          "state": {
            "_model_module": "@jupyter-widgets/base",
            "_model_module_version": "1.2.0",
            "_model_name": "LayoutModel",
            "_view_count": null,
            "_view_module": "@jupyter-widgets/base",
            "_view_module_version": "1.2.0",
            "_view_name": "LayoutView",
            "align_content": null,
            "align_items": null,
            "align_self": null,
            "border": null,
            "bottom": null,
            "display": null,
            "flex": null,
            "flex_flow": null,
            "grid_area": null,
            "grid_auto_columns": null,
            "grid_auto_flow": null,
            "grid_auto_rows": null,
            "grid_column": null,
            "grid_gap": null,
            "grid_row": null,
            "grid_template_areas": null,
            "grid_template_columns": null,
            "grid_template_rows": null,
            "height": null,
            "justify_content": null,
            "justify_items": null,
            "left": null,
            "margin": null,
            "max_height": null,
            "max_width": null,
            "min_height": null,
            "min_width": null,
            "object_fit": null,
            "object_position": null,
            "order": null,
            "overflow": null,
            "overflow_x": null,
            "overflow_y": null,
            "padding": null,
            "right": null,
            "top": null,
            "visibility": null,
            "width": null
          }
        },
        "bdcb38924a66415dba543ccf541b8c67": {
          "model_module": "@jupyter-widgets/controls",
          "model_name": "DescriptionStyleModel",
          "model_module_version": "1.5.0",
          "state": {
            "_model_module": "@jupyter-widgets/controls",
            "_model_module_version": "1.5.0",
            "_model_name": "DescriptionStyleModel",
            "_view_count": null,
            "_view_module": "@jupyter-widgets/base",
            "_view_module_version": "1.2.0",
            "_view_name": "StyleView",
            "description_width": ""
          }
        },
        "15de70b5b2844857b58b154f419d450a": {
          "model_module": "@jupyter-widgets/base",
          "model_name": "LayoutModel",
          "model_module_version": "1.2.0",
          "state": {
            "_model_module": "@jupyter-widgets/base",
            "_model_module_version": "1.2.0",
            "_model_name": "LayoutModel",
            "_view_count": null,
            "_view_module": "@jupyter-widgets/base",
            "_view_module_version": "1.2.0",
            "_view_name": "LayoutView",
            "align_content": null,
            "align_items": null,
            "align_self": null,
            "border": null,
            "bottom": null,
            "display": null,
            "flex": "2",
            "flex_flow": null,
            "grid_area": null,
            "grid_auto_columns": null,
            "grid_auto_flow": null,
            "grid_auto_rows": null,
            "grid_column": null,
            "grid_gap": null,
            "grid_row": null,
            "grid_template_areas": null,
            "grid_template_columns": null,
            "grid_template_rows": null,
            "height": null,
            "justify_content": null,
            "justify_items": null,
            "left": null,
            "margin": null,
            "max_height": null,
            "max_width": null,
            "min_height": null,
            "min_width": null,
            "object_fit": null,
            "object_position": null,
            "order": null,
            "overflow": null,
            "overflow_x": null,
            "overflow_y": null,
            "padding": null,
            "right": null,
            "top": null,
            "visibility": null,
            "width": null
          }
        },
        "7a9b4f22928c41d6b6fd738c2ef9482c": {
          "model_module": "@jupyter-widgets/controls",
          "model_name": "ProgressStyleModel",
          "model_module_version": "1.5.0",
          "state": {
            "_model_module": "@jupyter-widgets/controls",
            "_model_module_version": "1.5.0",
            "_model_name": "ProgressStyleModel",
            "_view_count": null,
            "_view_module": "@jupyter-widgets/base",
            "_view_module_version": "1.2.0",
            "_view_name": "StyleView",
            "bar_color": null,
            "description_width": ""
          }
        },
        "f1d6a4df73e74108bd8fbffb04b56b6d": {
          "model_module": "@jupyter-widgets/base",
          "model_name": "LayoutModel",
          "model_module_version": "1.2.0",
          "state": {
            "_model_module": "@jupyter-widgets/base",
            "_model_module_version": "1.2.0",
            "_model_name": "LayoutModel",
            "_view_count": null,
            "_view_module": "@jupyter-widgets/base",
            "_view_module_version": "1.2.0",
            "_view_name": "LayoutView",
            "align_content": null,
            "align_items": null,
            "align_self": null,
            "border": null,
            "bottom": null,
            "display": null,
            "flex": null,
            "flex_flow": null,
            "grid_area": null,
            "grid_auto_columns": null,
            "grid_auto_flow": null,
            "grid_auto_rows": null,
            "grid_column": null,
            "grid_gap": null,
            "grid_row": null,
            "grid_template_areas": null,
            "grid_template_columns": null,
            "grid_template_rows": null,
            "height": null,
            "justify_content": null,
            "justify_items": null,
            "left": null,
            "margin": null,
            "max_height": null,
            "max_width": null,
            "min_height": null,
            "min_width": null,
            "object_fit": null,
            "object_position": null,
            "order": null,
            "overflow": null,
            "overflow_x": null,
            "overflow_y": null,
            "padding": null,
            "right": null,
            "top": null,
            "visibility": null,
            "width": null
          }
        },
        "7a3bf7940ba445f1865103bfaed44dda": {
          "model_module": "@jupyter-widgets/controls",
          "model_name": "DescriptionStyleModel",
          "model_module_version": "1.5.0",
          "state": {
            "_model_module": "@jupyter-widgets/controls",
            "_model_module_version": "1.5.0",
            "_model_name": "DescriptionStyleModel",
            "_view_count": null,
            "_view_module": "@jupyter-widgets/base",
            "_view_module_version": "1.2.0",
            "_view_name": "StyleView",
            "description_width": ""
          }
        },
        "68e84260f073497284737a3e4ceb7812": {
          "model_module": "@jupyter-widgets/controls",
          "model_name": "HBoxModel",
          "model_module_version": "1.5.0",
          "state": {
            "_dom_classes": [],
            "_model_module": "@jupyter-widgets/controls",
            "_model_module_version": "1.5.0",
            "_model_name": "HBoxModel",
            "_view_count": null,
            "_view_module": "@jupyter-widgets/controls",
            "_view_module_version": "1.5.0",
            "_view_name": "HBoxView",
            "box_style": "",
            "children": [
              "IPY_MODEL_34895b68ffcd4257b4f42d3222b8fc87",
              "IPY_MODEL_d1fd1990223d440a8a916c541e55de24",
              "IPY_MODEL_5bbbd84c623e400e9ad15c7b4a3283c9"
            ],
            "layout": "IPY_MODEL_f5811310f20d422592b1e200d64a67cc"
          }
        },
        "34895b68ffcd4257b4f42d3222b8fc87": {
          "model_module": "@jupyter-widgets/controls",
          "model_name": "HTMLModel",
          "model_module_version": "1.5.0",
          "state": {
            "_dom_classes": [],
            "_model_module": "@jupyter-widgets/controls",
            "_model_module_version": "1.5.0",
            "_model_name": "HTMLModel",
            "_view_count": null,
            "_view_module": "@jupyter-widgets/controls",
            "_view_module_version": "1.5.0",
            "_view_name": "HTMLView",
            "description": "",
            "description_tooltip": null,
            "layout": "IPY_MODEL_70f72cc30e804b53a1456d41e66ace85",
            "placeholder": "​",
            "style": "IPY_MODEL_eb0c106ecaff4c69bae86d70cd5df4b3",
            "value": "Epoch 0:  79%"
          }
        },
        "d1fd1990223d440a8a916c541e55de24": {
          "model_module": "@jupyter-widgets/controls",
          "model_name": "FloatProgressModel",
          "model_module_version": "1.5.0",
          "state": {
            "_dom_classes": [],
            "_model_module": "@jupyter-widgets/controls",
            "_model_module_version": "1.5.0",
            "_model_name": "FloatProgressModel",
            "_view_count": null,
            "_view_module": "@jupyter-widgets/controls",
            "_view_module_version": "1.5.0",
            "_view_name": "ProgressView",
            "bar_style": "",
            "description": "",
            "description_tooltip": null,
            "layout": "IPY_MODEL_3a441ca704e7455ab6bc4c8f1d6b59ee",
            "max": 1269,
            "min": 0,
            "orientation": "horizontal",
            "style": "IPY_MODEL_648e58a18cda4127bd9cf5d4ab8b3a0e",
            "value": 1000
          }
        },
        "5bbbd84c623e400e9ad15c7b4a3283c9": {
          "model_module": "@jupyter-widgets/controls",
          "model_name": "HTMLModel",
          "model_module_version": "1.5.0",
          "state": {
            "_dom_classes": [],
            "_model_module": "@jupyter-widgets/controls",
            "_model_module_version": "1.5.0",
            "_model_name": "HTMLModel",
            "_view_count": null,
            "_view_module": "@jupyter-widgets/controls",
            "_view_module_version": "1.5.0",
            "_view_name": "HTMLView",
            "description": "",
            "description_tooltip": null,
            "layout": "IPY_MODEL_8e4c751aa66742109b2b6803d0a9e409",
            "placeholder": "​",
            "style": "IPY_MODEL_5716cf354ce64cb0972e0f4773677910",
            "value": " 1000/1269 [23:49&lt;06:24,  1.43s/it, loss=1.86, v_num=1, train_loss_step=1.710]"
          }
        },
        "f5811310f20d422592b1e200d64a67cc": {
          "model_module": "@jupyter-widgets/base",
          "model_name": "LayoutModel",
          "model_module_version": "1.2.0",
          "state": {
            "_model_module": "@jupyter-widgets/base",
            "_model_module_version": "1.2.0",
            "_model_name": "LayoutModel",
            "_view_count": null,
            "_view_module": "@jupyter-widgets/base",
            "_view_module_version": "1.2.0",
            "_view_name": "LayoutView",
            "align_content": null,
            "align_items": null,
            "align_self": null,
            "border": null,
            "bottom": null,
            "display": "inline-flex",
            "flex": null,
            "flex_flow": "row wrap",
            "grid_area": null,
            "grid_auto_columns": null,
            "grid_auto_flow": null,
            "grid_auto_rows": null,
            "grid_column": null,
            "grid_gap": null,
            "grid_row": null,
            "grid_template_areas": null,
            "grid_template_columns": null,
            "grid_template_rows": null,
            "height": null,
            "justify_content": null,
            "justify_items": null,
            "left": null,
            "margin": null,
            "max_height": null,
            "max_width": null,
            "min_height": null,
            "min_width": null,
            "object_fit": null,
            "object_position": null,
            "order": null,
            "overflow": null,
            "overflow_x": null,
            "overflow_y": null,
            "padding": null,
            "right": null,
            "top": null,
            "visibility": null,
            "width": "100%"
          }
        },
        "70f72cc30e804b53a1456d41e66ace85": {
          "model_module": "@jupyter-widgets/base",
          "model_name": "LayoutModel",
          "model_module_version": "1.2.0",
          "state": {
            "_model_module": "@jupyter-widgets/base",
            "_model_module_version": "1.2.0",
            "_model_name": "LayoutModel",
            "_view_count": null,
            "_view_module": "@jupyter-widgets/base",
            "_view_module_version": "1.2.0",
            "_view_name": "LayoutView",
            "align_content": null,
            "align_items": null,
            "align_self": null,
            "border": null,
            "bottom": null,
            "display": null,
            "flex": null,
            "flex_flow": null,
            "grid_area": null,
            "grid_auto_columns": null,
            "grid_auto_flow": null,
            "grid_auto_rows": null,
            "grid_column": null,
            "grid_gap": null,
            "grid_row": null,
            "grid_template_areas": null,
            "grid_template_columns": null,
            "grid_template_rows": null,
            "height": null,
            "justify_content": null,
            "justify_items": null,
            "left": null,
            "margin": null,
            "max_height": null,
            "max_width": null,
            "min_height": null,
            "min_width": null,
            "object_fit": null,
            "object_position": null,
            "order": null,
            "overflow": null,
            "overflow_x": null,
            "overflow_y": null,
            "padding": null,
            "right": null,
            "top": null,
            "visibility": null,
            "width": null
          }
        },
        "eb0c106ecaff4c69bae86d70cd5df4b3": {
          "model_module": "@jupyter-widgets/controls",
          "model_name": "DescriptionStyleModel",
          "model_module_version": "1.5.0",
          "state": {
            "_model_module": "@jupyter-widgets/controls",
            "_model_module_version": "1.5.0",
            "_model_name": "DescriptionStyleModel",
            "_view_count": null,
            "_view_module": "@jupyter-widgets/base",
            "_view_module_version": "1.2.0",
            "_view_name": "StyleView",
            "description_width": ""
          }
        },
        "3a441ca704e7455ab6bc4c8f1d6b59ee": {
          "model_module": "@jupyter-widgets/base",
          "model_name": "LayoutModel",
          "model_module_version": "1.2.0",
          "state": {
            "_model_module": "@jupyter-widgets/base",
            "_model_module_version": "1.2.0",
            "_model_name": "LayoutModel",
            "_view_count": null,
            "_view_module": "@jupyter-widgets/base",
            "_view_module_version": "1.2.0",
            "_view_name": "LayoutView",
            "align_content": null,
            "align_items": null,
            "align_self": null,
            "border": null,
            "bottom": null,
            "display": null,
            "flex": "2",
            "flex_flow": null,
            "grid_area": null,
            "grid_auto_columns": null,
            "grid_auto_flow": null,
            "grid_auto_rows": null,
            "grid_column": null,
            "grid_gap": null,
            "grid_row": null,
            "grid_template_areas": null,
            "grid_template_columns": null,
            "grid_template_rows": null,
            "height": null,
            "justify_content": null,
            "justify_items": null,
            "left": null,
            "margin": null,
            "max_height": null,
            "max_width": null,
            "min_height": null,
            "min_width": null,
            "object_fit": null,
            "object_position": null,
            "order": null,
            "overflow": null,
            "overflow_x": null,
            "overflow_y": null,
            "padding": null,
            "right": null,
            "top": null,
            "visibility": null,
            "width": null
          }
        },
        "648e58a18cda4127bd9cf5d4ab8b3a0e": {
          "model_module": "@jupyter-widgets/controls",
          "model_name": "ProgressStyleModel",
          "model_module_version": "1.5.0",
          "state": {
            "_model_module": "@jupyter-widgets/controls",
            "_model_module_version": "1.5.0",
            "_model_name": "ProgressStyleModel",
            "_view_count": null,
            "_view_module": "@jupyter-widgets/base",
            "_view_module_version": "1.2.0",
            "_view_name": "StyleView",
            "bar_color": null,
            "description_width": ""
          }
        },
        "8e4c751aa66742109b2b6803d0a9e409": {
          "model_module": "@jupyter-widgets/base",
          "model_name": "LayoutModel",
          "model_module_version": "1.2.0",
          "state": {
            "_model_module": "@jupyter-widgets/base",
            "_model_module_version": "1.2.0",
            "_model_name": "LayoutModel",
            "_view_count": null,
            "_view_module": "@jupyter-widgets/base",
            "_view_module_version": "1.2.0",
            "_view_name": "LayoutView",
            "align_content": null,
            "align_items": null,
            "align_self": null,
            "border": null,
            "bottom": null,
            "display": null,
            "flex": null,
            "flex_flow": null,
            "grid_area": null,
            "grid_auto_columns": null,
            "grid_auto_flow": null,
            "grid_auto_rows": null,
            "grid_column": null,
            "grid_gap": null,
            "grid_row": null,
            "grid_template_areas": null,
            "grid_template_columns": null,
            "grid_template_rows": null,
            "height": null,
            "justify_content": null,
            "justify_items": null,
            "left": null,
            "margin": null,
            "max_height": null,
            "max_width": null,
            "min_height": null,
            "min_width": null,
            "object_fit": null,
            "object_position": null,
            "order": null,
            "overflow": null,
            "overflow_x": null,
            "overflow_y": null,
            "padding": null,
            "right": null,
            "top": null,
            "visibility": null,
            "width": null
          }
        },
        "5716cf354ce64cb0972e0f4773677910": {
          "model_module": "@jupyter-widgets/controls",
          "model_name": "DescriptionStyleModel",
          "model_module_version": "1.5.0",
          "state": {
            "_model_module": "@jupyter-widgets/controls",
            "_model_module_version": "1.5.0",
            "_model_name": "DescriptionStyleModel",
            "_view_count": null,
            "_view_module": "@jupyter-widgets/base",
            "_view_module_version": "1.2.0",
            "_view_name": "StyleView",
            "description_width": ""
          }
        }
      }
    }
  },
  "cells": [
    {
      "cell_type": "code",
      "execution_count": 1,
      "metadata": {
        "colab": {
          "base_uri": "https://localhost:8080/"
        },
        "id": "RtxFgBherG6x",
        "outputId": "1f60024e-49e0-4317-e374-29474f66f778"
      },
      "outputs": [
        {
          "output_type": "stream",
          "name": "stdout",
          "text": [
            "Looking in indexes: https://pypi.org/simple, https://us-python.pkg.dev/colab-wheels/public/simple/\n",
            "Requirement already satisfied: simplet5 in /usr/local/lib/python3.10/dist-packages (0.1.4)\n",
            "Requirement already satisfied: numpy in /usr/local/lib/python3.10/dist-packages (from simplet5) (1.22.4)\n",
            "Requirement already satisfied: pandas in /usr/local/lib/python3.10/dist-packages (from simplet5) (1.5.3)\n",
            "Requirement already satisfied: sentencepiece in /usr/local/lib/python3.10/dist-packages (from simplet5) (0.1.99)\n",
            "Requirement already satisfied: torch!=1.8.0,>=1.7.0 in /usr/local/lib/python3.10/dist-packages (from simplet5) (2.0.1+cu118)\n",
            "Requirement already satisfied: transformers==4.16.2 in /usr/local/lib/python3.10/dist-packages (from simplet5) (4.16.2)\n",
            "Requirement already satisfied: pytorch-lightning==1.5.10 in /usr/local/lib/python3.10/dist-packages (from simplet5) (1.5.10)\n",
            "Requirement already satisfied: future>=0.17.1 in /usr/local/lib/python3.10/dist-packages (from pytorch-lightning==1.5.10->simplet5) (0.18.3)\n",
            "Requirement already satisfied: tqdm>=4.41.0 in /usr/local/lib/python3.10/dist-packages (from pytorch-lightning==1.5.10->simplet5) (4.65.0)\n",
            "Requirement already satisfied: PyYAML>=5.1 in /usr/local/lib/python3.10/dist-packages (from pytorch-lightning==1.5.10->simplet5) (6.0)\n",
            "Requirement already satisfied: fsspec[http]!=2021.06.0,>=2021.05.0 in /usr/local/lib/python3.10/dist-packages (from pytorch-lightning==1.5.10->simplet5) (2023.4.0)\n",
            "Requirement already satisfied: tensorboard>=2.2.0 in /usr/local/lib/python3.10/dist-packages (from pytorch-lightning==1.5.10->simplet5) (2.12.2)\n",
            "Requirement already satisfied: torchmetrics>=0.4.1 in /usr/local/lib/python3.10/dist-packages (from pytorch-lightning==1.5.10->simplet5) (0.11.4)\n",
            "Requirement already satisfied: pyDeprecate==0.3.1 in /usr/local/lib/python3.10/dist-packages (from pytorch-lightning==1.5.10->simplet5) (0.3.1)\n",
            "Requirement already satisfied: packaging>=17.0 in /usr/local/lib/python3.10/dist-packages (from pytorch-lightning==1.5.10->simplet5) (23.1)\n",
            "Requirement already satisfied: typing-extensions in /usr/local/lib/python3.10/dist-packages (from pytorch-lightning==1.5.10->simplet5) (4.5.0)\n",
            "Requirement already satisfied: setuptools==59.5.0 in /usr/local/lib/python3.10/dist-packages (from pytorch-lightning==1.5.10->simplet5) (59.5.0)\n",
            "Requirement already satisfied: filelock in /usr/local/lib/python3.10/dist-packages (from transformers==4.16.2->simplet5) (3.12.0)\n",
            "Requirement already satisfied: huggingface-hub<1.0,>=0.1.0 in /usr/local/lib/python3.10/dist-packages (from transformers==4.16.2->simplet5) (0.14.1)\n",
            "Requirement already satisfied: regex!=2019.12.17 in /usr/local/lib/python3.10/dist-packages (from transformers==4.16.2->simplet5) (2022.10.31)\n",
            "Requirement already satisfied: requests in /usr/local/lib/python3.10/dist-packages (from transformers==4.16.2->simplet5) (2.27.1)\n",
            "Requirement already satisfied: sacremoses in /usr/local/lib/python3.10/dist-packages (from transformers==4.16.2->simplet5) (0.0.53)\n",
            "Requirement already satisfied: tokenizers!=0.11.3,>=0.10.1 in /usr/local/lib/python3.10/dist-packages (from transformers==4.16.2->simplet5) (0.13.3)\n",
            "Requirement already satisfied: sympy in /usr/local/lib/python3.10/dist-packages (from torch!=1.8.0,>=1.7.0->simplet5) (1.11.1)\n",
            "Requirement already satisfied: networkx in /usr/local/lib/python3.10/dist-packages (from torch!=1.8.0,>=1.7.0->simplet5) (3.1)\n",
            "Requirement already satisfied: jinja2 in /usr/local/lib/python3.10/dist-packages (from torch!=1.8.0,>=1.7.0->simplet5) (3.1.2)\n",
            "Requirement already satisfied: triton==2.0.0 in /usr/local/lib/python3.10/dist-packages (from torch!=1.8.0,>=1.7.0->simplet5) (2.0.0)\n",
            "Requirement already satisfied: cmake in /usr/local/lib/python3.10/dist-packages (from triton==2.0.0->torch!=1.8.0,>=1.7.0->simplet5) (3.25.2)\n",
            "Requirement already satisfied: lit in /usr/local/lib/python3.10/dist-packages (from triton==2.0.0->torch!=1.8.0,>=1.7.0->simplet5) (16.0.5)\n",
            "Requirement already satisfied: python-dateutil>=2.8.1 in /usr/local/lib/python3.10/dist-packages (from pandas->simplet5) (2.8.2)\n",
            "Requirement already satisfied: pytz>=2020.1 in /usr/local/lib/python3.10/dist-packages (from pandas->simplet5) (2022.7.1)\n",
            "Requirement already satisfied: aiohttp!=4.0.0a0,!=4.0.0a1 in /usr/local/lib/python3.10/dist-packages (from fsspec[http]!=2021.06.0,>=2021.05.0->pytorch-lightning==1.5.10->simplet5) (3.8.4)\n",
            "Requirement already satisfied: six>=1.5 in /usr/local/lib/python3.10/dist-packages (from python-dateutil>=2.8.1->pandas->simplet5) (1.16.0)\n",
            "Requirement already satisfied: absl-py>=0.4 in /usr/local/lib/python3.10/dist-packages (from tensorboard>=2.2.0->pytorch-lightning==1.5.10->simplet5) (1.4.0)\n",
            "Requirement already satisfied: grpcio>=1.48.2 in /usr/local/lib/python3.10/dist-packages (from tensorboard>=2.2.0->pytorch-lightning==1.5.10->simplet5) (1.54.0)\n",
            "Requirement already satisfied: google-auth<3,>=1.6.3 in /usr/local/lib/python3.10/dist-packages (from tensorboard>=2.2.0->pytorch-lightning==1.5.10->simplet5) (2.17.3)\n",
            "Requirement already satisfied: google-auth-oauthlib<1.1,>=0.5 in /usr/local/lib/python3.10/dist-packages (from tensorboard>=2.2.0->pytorch-lightning==1.5.10->simplet5) (1.0.0)\n",
            "Requirement already satisfied: markdown>=2.6.8 in /usr/local/lib/python3.10/dist-packages (from tensorboard>=2.2.0->pytorch-lightning==1.5.10->simplet5) (3.4.3)\n",
            "Requirement already satisfied: protobuf>=3.19.6 in /usr/local/lib/python3.10/dist-packages (from tensorboard>=2.2.0->pytorch-lightning==1.5.10->simplet5) (3.20.3)\n",
            "Requirement already satisfied: tensorboard-data-server<0.8.0,>=0.7.0 in /usr/local/lib/python3.10/dist-packages (from tensorboard>=2.2.0->pytorch-lightning==1.5.10->simplet5) (0.7.0)\n",
            "Requirement already satisfied: tensorboard-plugin-wit>=1.6.0 in /usr/local/lib/python3.10/dist-packages (from tensorboard>=2.2.0->pytorch-lightning==1.5.10->simplet5) (1.8.1)\n",
            "Requirement already satisfied: werkzeug>=1.0.1 in /usr/local/lib/python3.10/dist-packages (from tensorboard>=2.2.0->pytorch-lightning==1.5.10->simplet5) (2.3.0)\n",
            "Requirement already satisfied: wheel>=0.26 in /usr/local/lib/python3.10/dist-packages (from tensorboard>=2.2.0->pytorch-lightning==1.5.10->simplet5) (0.40.0)\n",
            "Requirement already satisfied: urllib3<1.27,>=1.21.1 in /usr/local/lib/python3.10/dist-packages (from requests->transformers==4.16.2->simplet5) (1.26.15)\n",
            "Requirement already satisfied: certifi>=2017.4.17 in /usr/local/lib/python3.10/dist-packages (from requests->transformers==4.16.2->simplet5) (2022.12.7)\n",
            "Requirement already satisfied: charset-normalizer~=2.0.0 in /usr/local/lib/python3.10/dist-packages (from requests->transformers==4.16.2->simplet5) (2.0.12)\n",
            "Requirement already satisfied: idna<4,>=2.5 in /usr/local/lib/python3.10/dist-packages (from requests->transformers==4.16.2->simplet5) (3.4)\n",
            "Requirement already satisfied: MarkupSafe>=2.0 in /usr/local/lib/python3.10/dist-packages (from jinja2->torch!=1.8.0,>=1.7.0->simplet5) (2.1.2)\n",
            "Requirement already satisfied: click in /usr/local/lib/python3.10/dist-packages (from sacremoses->transformers==4.16.2->simplet5) (8.1.3)\n",
            "Requirement already satisfied: joblib in /usr/local/lib/python3.10/dist-packages (from sacremoses->transformers==4.16.2->simplet5) (1.2.0)\n",
            "Requirement already satisfied: mpmath>=0.19 in /usr/local/lib/python3.10/dist-packages (from sympy->torch!=1.8.0,>=1.7.0->simplet5) (1.3.0)\n",
            "Requirement already satisfied: attrs>=17.3.0 in /usr/local/lib/python3.10/dist-packages (from aiohttp!=4.0.0a0,!=4.0.0a1->fsspec[http]!=2021.06.0,>=2021.05.0->pytorch-lightning==1.5.10->simplet5) (23.1.0)\n",
            "Requirement already satisfied: multidict<7.0,>=4.5 in /usr/local/lib/python3.10/dist-packages (from aiohttp!=4.0.0a0,!=4.0.0a1->fsspec[http]!=2021.06.0,>=2021.05.0->pytorch-lightning==1.5.10->simplet5) (6.0.4)\n",
            "Requirement already satisfied: async-timeout<5.0,>=4.0.0a3 in /usr/local/lib/python3.10/dist-packages (from aiohttp!=4.0.0a0,!=4.0.0a1->fsspec[http]!=2021.06.0,>=2021.05.0->pytorch-lightning==1.5.10->simplet5) (4.0.2)\n",
            "Requirement already satisfied: yarl<2.0,>=1.0 in /usr/local/lib/python3.10/dist-packages (from aiohttp!=4.0.0a0,!=4.0.0a1->fsspec[http]!=2021.06.0,>=2021.05.0->pytorch-lightning==1.5.10->simplet5) (1.9.2)\n",
            "Requirement already satisfied: frozenlist>=1.1.1 in /usr/local/lib/python3.10/dist-packages (from aiohttp!=4.0.0a0,!=4.0.0a1->fsspec[http]!=2021.06.0,>=2021.05.0->pytorch-lightning==1.5.10->simplet5) (1.3.3)\n",
            "Requirement already satisfied: aiosignal>=1.1.2 in /usr/local/lib/python3.10/dist-packages (from aiohttp!=4.0.0a0,!=4.0.0a1->fsspec[http]!=2021.06.0,>=2021.05.0->pytorch-lightning==1.5.10->simplet5) (1.3.1)\n",
            "Requirement already satisfied: cachetools<6.0,>=2.0.0 in /usr/local/lib/python3.10/dist-packages (from google-auth<3,>=1.6.3->tensorboard>=2.2.0->pytorch-lightning==1.5.10->simplet5) (5.3.0)\n",
            "Requirement already satisfied: pyasn1-modules>=0.2.1 in /usr/local/lib/python3.10/dist-packages (from google-auth<3,>=1.6.3->tensorboard>=2.2.0->pytorch-lightning==1.5.10->simplet5) (0.3.0)\n",
            "Requirement already satisfied: rsa<5,>=3.1.4 in /usr/local/lib/python3.10/dist-packages (from google-auth<3,>=1.6.3->tensorboard>=2.2.0->pytorch-lightning==1.5.10->simplet5) (4.9)\n",
            "Requirement already satisfied: requests-oauthlib>=0.7.0 in /usr/local/lib/python3.10/dist-packages (from google-auth-oauthlib<1.1,>=0.5->tensorboard>=2.2.0->pytorch-lightning==1.5.10->simplet5) (1.3.1)\n",
            "Requirement already satisfied: pyasn1<0.6.0,>=0.4.6 in /usr/local/lib/python3.10/dist-packages (from pyasn1-modules>=0.2.1->google-auth<3,>=1.6.3->tensorboard>=2.2.0->pytorch-lightning==1.5.10->simplet5) (0.5.0)\n",
            "Requirement already satisfied: oauthlib>=3.0.0 in /usr/local/lib/python3.10/dist-packages (from requests-oauthlib>=0.7.0->google-auth-oauthlib<1.1,>=0.5->tensorboard>=2.2.0->pytorch-lightning==1.5.10->simplet5) (3.2.2)\n"
          ]
        }
      ],
      "source": [
        "pip install simplet5"
      ]
    },
    {
      "cell_type": "code",
      "source": [
        "import pandas as pd"
      ],
      "metadata": {
        "id": "GQB0iy0PrZwM"
      },
      "execution_count": 2,
      "outputs": []
    },
    {
      "cell_type": "code",
      "source": [
        "pip install -U scikit-learn"
      ],
      "metadata": {
        "colab": {
          "base_uri": "https://localhost:8080/"
        },
        "id": "rZXpIwk1reLz",
        "outputId": "309bcaf2-406c-4c5a-ef8c-73570a5ea6f2"
      },
      "execution_count": 3,
      "outputs": [
        {
          "output_type": "stream",
          "name": "stdout",
          "text": [
            "Looking in indexes: https://pypi.org/simple, https://us-python.pkg.dev/colab-wheels/public/simple/\n",
            "Requirement already satisfied: scikit-learn in /usr/local/lib/python3.10/dist-packages (1.2.2)\n",
            "Requirement already satisfied: numpy>=1.17.3 in /usr/local/lib/python3.10/dist-packages (from scikit-learn) (1.22.4)\n",
            "Requirement already satisfied: scipy>=1.3.2 in /usr/local/lib/python3.10/dist-packages (from scikit-learn) (1.10.1)\n",
            "Requirement already satisfied: joblib>=1.1.1 in /usr/local/lib/python3.10/dist-packages (from scikit-learn) (1.2.0)\n",
            "Requirement already satisfied: threadpoolctl>=2.0.0 in /usr/local/lib/python3.10/dist-packages (from scikit-learn) (3.1.0)\n"
          ]
        }
      ]
    },
    {
      "cell_type": "code",
      "source": [],
      "metadata": {
        "id": "SYumAF4Mv__Z"
      },
      "execution_count": 3,
      "outputs": []
    },
    {
      "cell_type": "code",
      "source": [
        "df = pd.read_csv('/content/drive/MyDrive/Colab Notebooks/Nlp/UAS/train.csv', encoding='latin-1')\n",
        "df.head()\n",
        "\n",
        "# df = pd.read_csv('train.csv', sep=', ', delimiter=None, \n",
        "#                 header='infer', names=None, \n",
        "#                 index_col=None, usecols=None, squeeze=False, \n",
        "#                 engine=None)\n",
        "# df.head()"
      ],
      "metadata": {
        "colab": {
          "base_uri": "https://localhost:8080/",
          "height": 206
        },
        "id": "of-Vwe0SrqGM",
        "outputId": "ebc031f5-b997-46ac-8a5c-b0fdcf8c3877"
      },
      "execution_count": 4,
      "outputs": [
        {
          "output_type": "execute_result",
          "data": {
            "text/plain": [
              "                                         id  \\\n",
              "0  0001d1afc246a7964130f43ae940af6bc6c57f01   \n",
              "1  0002095e55fcbd3a2f366d9bf92a95433dc305ef   \n",
              "2  00027e965c8264c35cc1bc55556db388da82b07f   \n",
              "3  0002c17436637c4fe1837c935c04de47adb18e9a   \n",
              "4  0003ad6ef0c37534f80b55b4235108024b407f0b   \n",
              "\n",
              "                                             article  \\\n",
              "0  By . Associated Press . PUBLISHED: . 14:11 EST...   \n",
              "1  (CNN) -- Ralph Mata was an internal affairs li...   \n",
              "2  A drunk driver who killed a young woman in a h...   \n",
              "3  (CNN) -- With a breezy sweep of his pen Presid...   \n",
              "4  Fleetwood are the only team still to have a 10...   \n",
              "\n",
              "                                          highlights  \n",
              "0  Bishop John Folda, of North Dakota, is taking ...  \n",
              "1  Criminal complaint: Cop used his role to help ...  \n",
              "2  Craig Eccleston-Todd, 27, had drunk at least t...  \n",
              "3  Nina dos Santos says Europe must be ready to a...  \n",
              "4  Fleetwood top of League One after 2-0 win at S...  "
            ],
            "text/html": [
              "\n",
              "  <div id=\"df-89a3610b-ffbc-4d28-9ed2-77b93779c331\">\n",
              "    <div class=\"colab-df-container\">\n",
              "      <div>\n",
              "<style scoped>\n",
              "    .dataframe tbody tr th:only-of-type {\n",
              "        vertical-align: middle;\n",
              "    }\n",
              "\n",
              "    .dataframe tbody tr th {\n",
              "        vertical-align: top;\n",
              "    }\n",
              "\n",
              "    .dataframe thead th {\n",
              "        text-align: right;\n",
              "    }\n",
              "</style>\n",
              "<table border=\"1\" class=\"dataframe\">\n",
              "  <thead>\n",
              "    <tr style=\"text-align: right;\">\n",
              "      <th></th>\n",
              "      <th>id</th>\n",
              "      <th>article</th>\n",
              "      <th>highlights</th>\n",
              "    </tr>\n",
              "  </thead>\n",
              "  <tbody>\n",
              "    <tr>\n",
              "      <th>0</th>\n",
              "      <td>0001d1afc246a7964130f43ae940af6bc6c57f01</td>\n",
              "      <td>By . Associated Press . PUBLISHED: . 14:11 EST...</td>\n",
              "      <td>Bishop John Folda, of North Dakota, is taking ...</td>\n",
              "    </tr>\n",
              "    <tr>\n",
              "      <th>1</th>\n",
              "      <td>0002095e55fcbd3a2f366d9bf92a95433dc305ef</td>\n",
              "      <td>(CNN) -- Ralph Mata was an internal affairs li...</td>\n",
              "      <td>Criminal complaint: Cop used his role to help ...</td>\n",
              "    </tr>\n",
              "    <tr>\n",
              "      <th>2</th>\n",
              "      <td>00027e965c8264c35cc1bc55556db388da82b07f</td>\n",
              "      <td>A drunk driver who killed a young woman in a h...</td>\n",
              "      <td>Craig Eccleston-Todd, 27, had drunk at least t...</td>\n",
              "    </tr>\n",
              "    <tr>\n",
              "      <th>3</th>\n",
              "      <td>0002c17436637c4fe1837c935c04de47adb18e9a</td>\n",
              "      <td>(CNN) -- With a breezy sweep of his pen Presid...</td>\n",
              "      <td>Nina dos Santos says Europe must be ready to a...</td>\n",
              "    </tr>\n",
              "    <tr>\n",
              "      <th>4</th>\n",
              "      <td>0003ad6ef0c37534f80b55b4235108024b407f0b</td>\n",
              "      <td>Fleetwood are the only team still to have a 10...</td>\n",
              "      <td>Fleetwood top of League One after 2-0 win at S...</td>\n",
              "    </tr>\n",
              "  </tbody>\n",
              "</table>\n",
              "</div>\n",
              "      <button class=\"colab-df-convert\" onclick=\"convertToInteractive('df-89a3610b-ffbc-4d28-9ed2-77b93779c331')\"\n",
              "              title=\"Convert this dataframe to an interactive table.\"\n",
              "              style=\"display:none;\">\n",
              "        \n",
              "  <svg xmlns=\"http://www.w3.org/2000/svg\" height=\"24px\"viewBox=\"0 0 24 24\"\n",
              "       width=\"24px\">\n",
              "    <path d=\"M0 0h24v24H0V0z\" fill=\"none\"/>\n",
              "    <path d=\"M18.56 5.44l.94 2.06.94-2.06 2.06-.94-2.06-.94-.94-2.06-.94 2.06-2.06.94zm-11 1L8.5 8.5l.94-2.06 2.06-.94-2.06-.94L8.5 2.5l-.94 2.06-2.06.94zm10 10l.94 2.06.94-2.06 2.06-.94-2.06-.94-.94-2.06-.94 2.06-2.06.94z\"/><path d=\"M17.41 7.96l-1.37-1.37c-.4-.4-.92-.59-1.43-.59-.52 0-1.04.2-1.43.59L10.3 9.45l-7.72 7.72c-.78.78-.78 2.05 0 2.83L4 21.41c.39.39.9.59 1.41.59.51 0 1.02-.2 1.41-.59l7.78-7.78 2.81-2.81c.8-.78.8-2.07 0-2.86zM5.41 20L4 18.59l7.72-7.72 1.47 1.35L5.41 20z\"/>\n",
              "  </svg>\n",
              "      </button>\n",
              "      \n",
              "  <style>\n",
              "    .colab-df-container {\n",
              "      display:flex;\n",
              "      flex-wrap:wrap;\n",
              "      gap: 12px;\n",
              "    }\n",
              "\n",
              "    .colab-df-convert {\n",
              "      background-color: #E8F0FE;\n",
              "      border: none;\n",
              "      border-radius: 50%;\n",
              "      cursor: pointer;\n",
              "      display: none;\n",
              "      fill: #1967D2;\n",
              "      height: 32px;\n",
              "      padding: 0 0 0 0;\n",
              "      width: 32px;\n",
              "    }\n",
              "\n",
              "    .colab-df-convert:hover {\n",
              "      background-color: #E2EBFA;\n",
              "      box-shadow: 0px 1px 2px rgba(60, 64, 67, 0.3), 0px 1px 3px 1px rgba(60, 64, 67, 0.15);\n",
              "      fill: #174EA6;\n",
              "    }\n",
              "\n",
              "    [theme=dark] .colab-df-convert {\n",
              "      background-color: #3B4455;\n",
              "      fill: #D2E3FC;\n",
              "    }\n",
              "\n",
              "    [theme=dark] .colab-df-convert:hover {\n",
              "      background-color: #434B5C;\n",
              "      box-shadow: 0px 1px 3px 1px rgba(0, 0, 0, 0.15);\n",
              "      filter: drop-shadow(0px 1px 2px rgba(0, 0, 0, 0.3));\n",
              "      fill: #FFFFFF;\n",
              "    }\n",
              "  </style>\n",
              "\n",
              "      <script>\n",
              "        const buttonEl =\n",
              "          document.querySelector('#df-89a3610b-ffbc-4d28-9ed2-77b93779c331 button.colab-df-convert');\n",
              "        buttonEl.style.display =\n",
              "          google.colab.kernel.accessAllowed ? 'block' : 'none';\n",
              "\n",
              "        async function convertToInteractive(key) {\n",
              "          const element = document.querySelector('#df-89a3610b-ffbc-4d28-9ed2-77b93779c331');\n",
              "          const dataTable =\n",
              "            await google.colab.kernel.invokeFunction('convertToInteractive',\n",
              "                                                     [key], {});\n",
              "          if (!dataTable) return;\n",
              "\n",
              "          const docLinkHtml = 'Like what you see? Visit the ' +\n",
              "            '<a target=\"_blank\" href=https://colab.research.google.com/notebooks/data_table.ipynb>data table notebook</a>'\n",
              "            + ' to learn more about interactive tables.';\n",
              "          element.innerHTML = '';\n",
              "          dataTable['output_type'] = 'display_data';\n",
              "          await google.colab.output.renderOutput(dataTable, element);\n",
              "          const docLink = document.createElement('div');\n",
              "          docLink.innerHTML = docLinkHtml;\n",
              "          element.appendChild(docLink);\n",
              "        }\n",
              "      </script>\n",
              "    </div>\n",
              "  </div>\n",
              "  "
            ]
          },
          "metadata": {},
          "execution_count": 4
        }
      ]
    },
    {
      "cell_type": "code",
      "source": [
        "df = df.rename(columns={\"highlights\":\"target_text\", \"article\":\"source_text\"})\n",
        "df = df[['source_text', 'target_text']]\n",
        "\n",
        "# T5 model expects a task related prefix: since it is a summarization task, we will add a prefix \"summarize: \"\n",
        "df['source_text'] = \"summarize: \" + df['source_text']\n",
        "df"
      ],
      "metadata": {
        "colab": {
          "base_uri": "https://localhost:8080/",
          "height": 423
        },
        "id": "4Pg6UgaBsKrj",
        "outputId": "9a127e5c-2fb9-415c-dba9-8f00d845898c"
      },
      "execution_count": 5,
      "outputs": [
        {
          "output_type": "execute_result",
          "data": {
            "text/plain": [
              "                                              source_text  \\\n",
              "0       summarize: By . Associated Press . PUBLISHED: ...   \n",
              "1       summarize: (CNN) -- Ralph Mata was an internal...   \n",
              "2       summarize: A drunk driver who killed a young w...   \n",
              "3       summarize: (CNN) -- With a breezy sweep of his...   \n",
              "4       summarize: Fleetwood are the only team still t...   \n",
              "...                                                   ...   \n",
              "287108  summarize: By . James Rush . Former first daug...   \n",
              "287109  summarize: An apologetic Vanilla Ice has given...   \n",
              "287110  summarize: America's most lethal sniper claime...   \n",
              "287111  summarize: By . Sara Malm . PUBLISHED: . 12:19...   \n",
              "287112  summarize: (CNN)Former Florida Gov. Jeb Bush h...   \n",
              "\n",
              "                                              target_text  \n",
              "0       Bishop John Folda, of North Dakota, is taking ...  \n",
              "1       Criminal complaint: Cop used his role to help ...  \n",
              "2       Craig Eccleston-Todd, 27, had drunk at least t...  \n",
              "3       Nina dos Santos says Europe must be ready to a...  \n",
              "4       Fleetwood top of League One after 2-0 win at S...  \n",
              "...                                                   ...  \n",
              "287108  Chelsea Clinton said question of running for o...  \n",
              "287109  Vanilla Ice, 47 - real name Robert Van Winkle ...  \n",
              "287110  America's most lethal sniper made comment in i...  \n",
              "287111  A swarm of more than one million has crossed b...  \n",
              "287112  Other 2016 hopefuls maintain that Bush's annou...  \n",
              "\n",
              "[287113 rows x 2 columns]"
            ],
            "text/html": [
              "\n",
              "  <div id=\"df-097af9b0-5d42-41f4-92af-7bb641ff40eb\">\n",
              "    <div class=\"colab-df-container\">\n",
              "      <div>\n",
              "<style scoped>\n",
              "    .dataframe tbody tr th:only-of-type {\n",
              "        vertical-align: middle;\n",
              "    }\n",
              "\n",
              "    .dataframe tbody tr th {\n",
              "        vertical-align: top;\n",
              "    }\n",
              "\n",
              "    .dataframe thead th {\n",
              "        text-align: right;\n",
              "    }\n",
              "</style>\n",
              "<table border=\"1\" class=\"dataframe\">\n",
              "  <thead>\n",
              "    <tr style=\"text-align: right;\">\n",
              "      <th></th>\n",
              "      <th>source_text</th>\n",
              "      <th>target_text</th>\n",
              "    </tr>\n",
              "  </thead>\n",
              "  <tbody>\n",
              "    <tr>\n",
              "      <th>0</th>\n",
              "      <td>summarize: By . Associated Press . PUBLISHED: ...</td>\n",
              "      <td>Bishop John Folda, of North Dakota, is taking ...</td>\n",
              "    </tr>\n",
              "    <tr>\n",
              "      <th>1</th>\n",
              "      <td>summarize: (CNN) -- Ralph Mata was an internal...</td>\n",
              "      <td>Criminal complaint: Cop used his role to help ...</td>\n",
              "    </tr>\n",
              "    <tr>\n",
              "      <th>2</th>\n",
              "      <td>summarize: A drunk driver who killed a young w...</td>\n",
              "      <td>Craig Eccleston-Todd, 27, had drunk at least t...</td>\n",
              "    </tr>\n",
              "    <tr>\n",
              "      <th>3</th>\n",
              "      <td>summarize: (CNN) -- With a breezy sweep of his...</td>\n",
              "      <td>Nina dos Santos says Europe must be ready to a...</td>\n",
              "    </tr>\n",
              "    <tr>\n",
              "      <th>4</th>\n",
              "      <td>summarize: Fleetwood are the only team still t...</td>\n",
              "      <td>Fleetwood top of League One after 2-0 win at S...</td>\n",
              "    </tr>\n",
              "    <tr>\n",
              "      <th>...</th>\n",
              "      <td>...</td>\n",
              "      <td>...</td>\n",
              "    </tr>\n",
              "    <tr>\n",
              "      <th>287108</th>\n",
              "      <td>summarize: By . James Rush . Former first daug...</td>\n",
              "      <td>Chelsea Clinton said question of running for o...</td>\n",
              "    </tr>\n",
              "    <tr>\n",
              "      <th>287109</th>\n",
              "      <td>summarize: An apologetic Vanilla Ice has given...</td>\n",
              "      <td>Vanilla Ice, 47 - real name Robert Van Winkle ...</td>\n",
              "    </tr>\n",
              "    <tr>\n",
              "      <th>287110</th>\n",
              "      <td>summarize: America's most lethal sniper claime...</td>\n",
              "      <td>America's most lethal sniper made comment in i...</td>\n",
              "    </tr>\n",
              "    <tr>\n",
              "      <th>287111</th>\n",
              "      <td>summarize: By . Sara Malm . PUBLISHED: . 12:19...</td>\n",
              "      <td>A swarm of more than one million has crossed b...</td>\n",
              "    </tr>\n",
              "    <tr>\n",
              "      <th>287112</th>\n",
              "      <td>summarize: (CNN)Former Florida Gov. Jeb Bush h...</td>\n",
              "      <td>Other 2016 hopefuls maintain that Bush's annou...</td>\n",
              "    </tr>\n",
              "  </tbody>\n",
              "</table>\n",
              "<p>287113 rows × 2 columns</p>\n",
              "</div>\n",
              "      <button class=\"colab-df-convert\" onclick=\"convertToInteractive('df-097af9b0-5d42-41f4-92af-7bb641ff40eb')\"\n",
              "              title=\"Convert this dataframe to an interactive table.\"\n",
              "              style=\"display:none;\">\n",
              "        \n",
              "  <svg xmlns=\"http://www.w3.org/2000/svg\" height=\"24px\"viewBox=\"0 0 24 24\"\n",
              "       width=\"24px\">\n",
              "    <path d=\"M0 0h24v24H0V0z\" fill=\"none\"/>\n",
              "    <path d=\"M18.56 5.44l.94 2.06.94-2.06 2.06-.94-2.06-.94-.94-2.06-.94 2.06-2.06.94zm-11 1L8.5 8.5l.94-2.06 2.06-.94-2.06-.94L8.5 2.5l-.94 2.06-2.06.94zm10 10l.94 2.06.94-2.06 2.06-.94-2.06-.94-.94-2.06-.94 2.06-2.06.94z\"/><path d=\"M17.41 7.96l-1.37-1.37c-.4-.4-.92-.59-1.43-.59-.52 0-1.04.2-1.43.59L10.3 9.45l-7.72 7.72c-.78.78-.78 2.05 0 2.83L4 21.41c.39.39.9.59 1.41.59.51 0 1.02-.2 1.41-.59l7.78-7.78 2.81-2.81c.8-.78.8-2.07 0-2.86zM5.41 20L4 18.59l7.72-7.72 1.47 1.35L5.41 20z\"/>\n",
              "  </svg>\n",
              "      </button>\n",
              "      \n",
              "  <style>\n",
              "    .colab-df-container {\n",
              "      display:flex;\n",
              "      flex-wrap:wrap;\n",
              "      gap: 12px;\n",
              "    }\n",
              "\n",
              "    .colab-df-convert {\n",
              "      background-color: #E8F0FE;\n",
              "      border: none;\n",
              "      border-radius: 50%;\n",
              "      cursor: pointer;\n",
              "      display: none;\n",
              "      fill: #1967D2;\n",
              "      height: 32px;\n",
              "      padding: 0 0 0 0;\n",
              "      width: 32px;\n",
              "    }\n",
              "\n",
              "    .colab-df-convert:hover {\n",
              "      background-color: #E2EBFA;\n",
              "      box-shadow: 0px 1px 2px rgba(60, 64, 67, 0.3), 0px 1px 3px 1px rgba(60, 64, 67, 0.15);\n",
              "      fill: #174EA6;\n",
              "    }\n",
              "\n",
              "    [theme=dark] .colab-df-convert {\n",
              "      background-color: #3B4455;\n",
              "      fill: #D2E3FC;\n",
              "    }\n",
              "\n",
              "    [theme=dark] .colab-df-convert:hover {\n",
              "      background-color: #434B5C;\n",
              "      box-shadow: 0px 1px 3px 1px rgba(0, 0, 0, 0.15);\n",
              "      filter: drop-shadow(0px 1px 2px rgba(0, 0, 0, 0.3));\n",
              "      fill: #FFFFFF;\n",
              "    }\n",
              "  </style>\n",
              "\n",
              "      <script>\n",
              "        const buttonEl =\n",
              "          document.querySelector('#df-097af9b0-5d42-41f4-92af-7bb641ff40eb button.colab-df-convert');\n",
              "        buttonEl.style.display =\n",
              "          google.colab.kernel.accessAllowed ? 'block' : 'none';\n",
              "\n",
              "        async function convertToInteractive(key) {\n",
              "          const element = document.querySelector('#df-097af9b0-5d42-41f4-92af-7bb641ff40eb');\n",
              "          const dataTable =\n",
              "            await google.colab.kernel.invokeFunction('convertToInteractive',\n",
              "                                                     [key], {});\n",
              "          if (!dataTable) return;\n",
              "\n",
              "          const docLinkHtml = 'Like what you see? Visit the ' +\n",
              "            '<a target=\"_blank\" href=https://colab.research.google.com/notebooks/data_table.ipynb>data table notebook</a>'\n",
              "            + ' to learn more about interactive tables.';\n",
              "          element.innerHTML = '';\n",
              "          dataTable['output_type'] = 'display_data';\n",
              "          await google.colab.output.renderOutput(dataTable, element);\n",
              "          const docLink = document.createElement('div');\n",
              "          docLink.innerHTML = docLinkHtml;\n",
              "          element.appendChild(docLink);\n",
              "        }\n",
              "      </script>\n",
              "    </div>\n",
              "  </div>\n",
              "  "
            ]
          },
          "metadata": {},
          "execution_count": 5
        }
      ]
    },
    {
      "cell_type": "code",
      "source": [
        "from sklearn.model_selection import train_test_split\n",
        "train_df, test_df = train_test_split(df, test_size=0.2)\n",
        "train_df.shape, test_df.shape"
      ],
      "metadata": {
        "colab": {
          "base_uri": "https://localhost:8080/"
        },
        "id": "KRe1pwWzwhw4",
        "outputId": "6180a026-f81d-4b64-f0d4-98c37a33eba6"
      },
      "execution_count": 6,
      "outputs": [
        {
          "output_type": "execute_result",
          "data": {
            "text/plain": [
              "((229690, 2), (57423, 2))"
            ]
          },
          "metadata": {},
          "execution_count": 6
        }
      ]
    },
    {
      "cell_type": "code",
      "source": [
        "from simplet5 import SimpleT5\n",
        "model = SimpleT5()"
      ],
      "metadata": {
        "colab": {
          "base_uri": "https://localhost:8080/"
        },
        "id": "hWoVJbU1woh3",
        "outputId": "b2de722f-c0cf-48f4-cfb2-c197e2c4a2c9"
      },
      "execution_count": 7,
      "outputs": [
        {
          "output_type": "stream",
          "name": "stderr",
          "text": [
            "INFO:pytorch_lightning.utilities.seed:Global seed set to 42\n"
          ]
        }
      ]
    },
    {
      "cell_type": "code",
      "source": [
        "model.from_pretrained(model_type=\"t5\", model_name=\"t5-base\")"
      ],
      "metadata": {
        "id": "VxzV2WwQws1Q"
      },
      "execution_count": 8,
      "outputs": []
    },
    {
      "cell_type": "code",
      "source": [
        "model.train(train_df=train_df[:20000], \n",
        "            eval_df=test_df[:300],  \n",
        "            source_max_token_len=512, \n",
        "            target_max_token_len=512, \n",
        "            batch_size=16, max_epochs=2, use_gpu=True, \n",
        "            early_stopping_patience_epochs=2)"
      ],
      "metadata": {
        "colab": {
          "base_uri": "https://localhost:8080/",
          "height": 304,
          "referenced_widgets": [
            "4e6964e9f3a544589c00ed8e35d4fcbd",
            "c6c75b9797bb43d2b22d4074cc9cb83a",
            "2f429d5e631543468b78d80f4ae1fdc5",
            "cca6b4a3fc33497286bb2fc433bebfcb",
            "3bebf40be9c7424b8556f4b88c0d8837",
            "ed1e24fe281f4234b1cfa21901cc64a1",
            "bdcb38924a66415dba543ccf541b8c67",
            "15de70b5b2844857b58b154f419d450a",
            "7a9b4f22928c41d6b6fd738c2ef9482c",
            "f1d6a4df73e74108bd8fbffb04b56b6d",
            "7a3bf7940ba445f1865103bfaed44dda",
            "68e84260f073497284737a3e4ceb7812",
            "34895b68ffcd4257b4f42d3222b8fc87",
            "d1fd1990223d440a8a916c541e55de24",
            "5bbbd84c623e400e9ad15c7b4a3283c9",
            "f5811310f20d422592b1e200d64a67cc",
            "70f72cc30e804b53a1456d41e66ace85",
            "eb0c106ecaff4c69bae86d70cd5df4b3",
            "3a441ca704e7455ab6bc4c8f1d6b59ee",
            "648e58a18cda4127bd9cf5d4ab8b3a0e",
            "8e4c751aa66742109b2b6803d0a9e409",
            "5716cf354ce64cb0972e0f4773677910"
          ]
        },
        "id": "EK95hv-uwtnx",
        "outputId": "4e4ada61-8de2-4418-926b-8c92e40d80b9"
      },
      "execution_count": null,
      "outputs": [
        {
          "output_type": "stream",
          "name": "stderr",
          "text": [
            "INFO:pytorch_lightning.utilities.distributed:GPU available: True, used: True\n",
            "INFO:pytorch_lightning.utilities.distributed:TPU available: False, using: 0 TPU cores\n",
            "INFO:pytorch_lightning.utilities.distributed:IPU available: False, using: 0 IPUs\n",
            "INFO:pytorch_lightning.accelerators.gpu:LOCAL_RANK: 0 - CUDA_VISIBLE_DEVICES: [0]\n",
            "INFO:pytorch_lightning.callbacks.model_summary:\n",
            "  | Name  | Type                       | Params\n",
            "-----------------------------------------------------\n",
            "0 | model | T5ForConditionalGeneration | 222 M \n",
            "-----------------------------------------------------\n",
            "222 M     Trainable params\n",
            "0         Non-trainable params\n",
            "222 M     Total params\n",
            "891.614   Total estimated model params size (MB)\n"
          ]
        },
        {
          "output_type": "display_data",
          "data": {
            "text/plain": [
              "Validation sanity check: 0it [00:00, ?it/s]"
            ],
            "application/vnd.jupyter.widget-view+json": {
              "version_major": 2,
              "version_minor": 0,
              "model_id": "4e6964e9f3a544589c00ed8e35d4fcbd"
            }
          },
          "metadata": {}
        },
        {
          "output_type": "stream",
          "name": "stderr",
          "text": [
            "INFO:pytorch_lightning.utilities.seed:Global seed set to 42\n"
          ]
        },
        {
          "output_type": "display_data",
          "data": {
            "text/plain": [
              "Training: 0it [00:00, ?it/s]"
            ],
            "application/vnd.jupyter.widget-view+json": {
              "version_major": 2,
              "version_minor": 0,
              "model_id": "68e84260f073497284737a3e4ceb7812"
            }
          },
          "metadata": {}
        }
      ]
    },
    {
      "cell_type": "code",
      "source": [
        "import torch"
      ],
      "metadata": {
        "id": "pDkXiKga_45I"
      },
      "execution_count": 9,
      "outputs": []
    },
    {
      "cell_type": "code",
      "source": [
        "filepath = \"model.pt\"\n",
        "\n",
        "# save the model\n",
        "torch.save(model, filepath)"
      ],
      "metadata": {
        "id": "idxk44Pc_8ze"
      },
      "execution_count": 10,
      "outputs": []
    },
    {
      "cell_type": "code",
      "source": [
        "model1 = torch.load('model.pt', map_location=torch.device('cpu'))"
      ],
      "metadata": {
        "id": "JHv4UpExADVY"
      },
      "execution_count": 11,
      "outputs": []
    },
    {
      "cell_type": "code",
      "source": [
        "model1.device= torch.device(\"cpu\")"
      ],
      "metadata": {
        "id": "_GGs4bgTAE_u"
      },
      "execution_count": 12,
      "outputs": []
    },
    {
      "cell_type": "code",
      "source": [
        "text_input = \"\"\"A 38-year-old woman in the US, who was apprehended twice for allegedly trying to jump the White House fence last week, has been arrested for scaling a fence at the Treasury Building. Marci Anderson Wahl of Everett, Washington, was arrested after an alarm sounded at about 2:15 am yesterday when she scaled a fence at the Treasury Building, next to the White House. Police said Wahl has told them she was there to speak to US President Donald Trump, the CNN reported. She was charged with unlawful entry and contempt of court. Wahl was first arrested on March 21 last week for trying to jump the White House fence. Once in custody, it was determined that Wahl had been issued a \"stay away\" order for the White House complex after the incident. On March 21, officers saw Wahl walking and staring at the White House complex before discovering she had jumped a fence on the south side but got stuck. Officers found her hanging from the inside of the fence by her shoelaces, which were \"caught on top of the fence,\" according to a police report. She was re-arrested on March 24 after officers saw her near Lafayette Park. She was released on her own recognisance after a Saturday court appearance. In the incident, Wahl was charged with contempt of court in violation of a stay away order. She pleaded not guilty last Saturday and was again released on her own recognisance.\"\"\""
      ],
      "metadata": {
        "id": "Wj1KrOIyAL4e"
      },
      "execution_count": 13,
      "outputs": []
    },
    {
      "cell_type": "code",
      "source": [
        "text_to_summarize = \"\"\"summarize: \"\"\" + text_input\n",
        "predicted_output = model1.predict(text_to_summarize)"
      ],
      "metadata": {
        "id": "650E3q8fAPkv"
      },
      "execution_count": 14,
      "outputs": []
    },
    {
      "cell_type": "code",
      "source": [
        "predicted_output"
      ],
      "metadata": {
        "colab": {
          "base_uri": "https://localhost:8080/"
        },
        "id": "HqJ_7wTZAYX-",
        "outputId": "b47e603d-22e8-4ac5-f9e8-1decdd497c33"
      },
      "execution_count": 15,
      "outputs": [
        {
          "output_type": "execute_result",
          "data": {
            "text/plain": [
              "['woman in the u.s. charged with unlawful entry and contempt of court. police say she scaled fence at the Treasury Building next to the white house. she was first arrested on march 21 last week for trying to jump the fence.']"
            ]
          },
          "metadata": {},
          "execution_count": 15
        }
      ]
    },
    {
      "cell_type": "code",
      "source": [
        "model_summaries = []"
      ],
      "metadata": {
        "id": "cc2YGr_iAfDm"
      },
      "execution_count": 16,
      "outputs": []
    },
    {
      "cell_type": "code",
      "source": [
        "summary_model = df['target_text'][:20]"
      ],
      "metadata": {
        "id": "E1nWfjkyAhAP"
      },
      "execution_count": 17,
      "outputs": []
    },
    {
      "cell_type": "code",
      "source": [
        "summary_model"
      ],
      "metadata": {
        "colab": {
          "base_uri": "https://localhost:8080/"
        },
        "id": "PRn_YzZwAiaO",
        "outputId": "c4e7a49e-a728-4a8e-c430-dea302e143be"
      },
      "execution_count": 18,
      "outputs": [
        {
          "output_type": "execute_result",
          "data": {
            "text/plain": [
              "0     Bishop John Folda, of North Dakota, is taking ...\n",
              "1     Criminal complaint: Cop used his role to help ...\n",
              "2     Craig Eccleston-Todd, 27, had drunk at least t...\n",
              "3     Nina dos Santos says Europe must be ready to a...\n",
              "4     Fleetwood top of League One after 2-0 win at S...\n",
              "5     Prime Minister and his family are enjoying an ...\n",
              "6     NBA star calls for black and Hispanic communit...\n",
              "7     London Midland service had been pulling into T...\n",
              "8     Tony Pulis believes Saido Berahino should look...\n",
              "9     Black box data from Flight 370 could be analyz...\n",
              "10    The distortion is the result of the Mercator m...\n",
              "11    Alan Dershowitz has filed defamation suits aga...\n",
              "12    Sarah Ernhart, the owner of Sarah Beth Photogr...\n",
              "13    Manchester United beat Southampton 2-1 at St M...\n",
              "14    U.S. corporations merge with foreign companies...\n",
              "15    Half of Brits admit to checking work e-mails w...\n",
              "16    Dencia's comment is hypocritical considering s...\n",
              "17    Ex-military chiefs suggested .\\nstepping up Sp...\n",
              "18    Claudia Yanira Hernandez Soriano, 25, and Juan...\n",
              "19    Airstrike kills nine Syrians in refugee camp, ...\n",
              "Name: target_text, dtype: object"
            ]
          },
          "metadata": {},
          "execution_count": 18
        }
      ]
    },
    {
      "cell_type": "code",
      "source": [
        "text_summaries = []\n",
        "for x in range(20):\n",
        "    summary = str(summary_model[x])\n",
        "    summary = summary[:-2]\n",
        "    print(summary)\n",
        "    print()\n",
        "    text_summaries.append(summary)"
      ],
      "metadata": {
        "colab": {
          "base_uri": "https://localhost:8080/"
        },
        "id": "sM8rfUA0Ak6v",
        "outputId": "e842fa1c-6ec7-46f2-ca4c-a97d3006cb20"
      },
      "execution_count": 19,
      "outputs": [
        {
          "output_type": "stream",
          "name": "stdout",
          "text": [
            "Bishop John Folda, of North Dakota, is taking time off after being diagnosed .\n",
            "He contracted the infection through contaminated food in Italy .\n",
            "Church members in Fargo, Grand Forks and Jamestown could have been exposed\n",
            "\n",
            "Criminal complaint: Cop used his role to help cocaine traffickers .\n",
            "Ralph Mata, an internal affairs lieutenant, allegedly helped group get guns .\n",
            "He also arranged to pay two assassins in a murder plot, a complaint alleges\n",
            "\n",
            "Craig Eccleston-Todd, 27, had drunk at least three pints before driving car .\n",
            "Was using phone when he veered across road in Yarmouth, Isle of Wight .\n",
            "Crashed head-on into 28-year-old Rachel Titley's car, who died in hospital .\n",
            "Police say he would have been over legal drink-drive limit at time of crash .\n",
            "He was found guilty at Portsmouth Crown Court of causing death by dangerous driving\n",
            "\n",
            "Nina dos Santos says Europe must be ready to accept sanctions will hurt both sides .\n",
            "Targeting Russia's business community would be one way of sapping their support for President Putin, she says .\n",
            "But she says Europe would have a hard time keeping its factories going without power from the east\n",
            "\n",
            "Fleetwood top of League One after 2-0 win at Scunthorpe .\n",
            "Peterborough, Bristol City, Chesterfield and Crawley all drop first points of the season .\n",
            "Stand-in striker Matt Done scores a hat-trick as Rochdale thrash Crewe 5-2 .\n",
            "Wins for Notts County and Yeovil .\n",
            "Coventry/Bradford and Oldham/Port Vale both end in draws .\n",
            "A late Stephen Bywater own goal denies Gillingham three points against Millwall\n",
            "\n",
            "Prime Minister and his family are enjoying an Easter break in Lanzarote .\n",
            "Sported the same Â£20.99 beige loafers as he wore in Portugal last year .\n",
            "PM sat and had a drink at a beach-side cafe on the Spanish Island\n",
            "\n",
            "NBA star calls for black and Hispanic communities to get tested .\n",
            "Former Lakers player dedicated life to raising awareness about disease\n",
            "\n",
            "London Midland service had been pulling into Telford Station in Shropshire .\n",
            "Passenger Chris Downes, 46, was recording on his mobile at the time .\n",
            "Announcer can clearly be heard saying: 'Telford Central - please be aware of pickpockets and gipsies'\n",
            "London Midland said it is now launching an investigation into the incident\n",
            "\n",
            "Tony Pulis believes Saido Berahino should look up to Darren Fletcher .\n",
            "Pulis insists Berahino has been listened to the wrong advice .\n",
            "Berahino said he wants to move on to bigger things earlier in the week .\n",
            "READ: Berahino available for Â£20m after Liverpool target angers club .\n",
            "CLICK HERE for all the latest West Brom news\n",
            "\n",
            "Black box data from Flight 370 could be analyzed at a laboratory in Australia .\n",
            "Even if the flight data recorder is damaged, information is retrievable .\n",
            "About 2,000 parameters are decoded, like altitude, engine performance and cabin pressure .\n",
            "The data is used to create a visual representation, helping the public understand an accident\n",
            "\n",
            "The distortion is the result of the Mercator map which was created in 1596 to help sailors navigate the world .\n",
            "It gives the right shapes of countries but at the cost of distorting sizes in favour of the wealthy lands to the north .\n",
            "For instance, north America looks larger, or at least as big, as Africa, and Greenland also looks of comparable size .\n",
            "In reality, you can fit north America into Africa and still have space for India, Argentina, Tunisia and some left over .\n",
            "Map suggests Scandinavian countries are larger than India, whereas in reality India is three times the size .\n",
            "The biggest challenge for cartographers is that it is impossible to portray reality of spherical world on a flat map\n",
            "\n",
            "Alan Dershowitz has filed defamation suits against two other U.S lawyers .\n",
            "He is accused of having sex with Virginia Roberts when she was a minor .\n",
            "Dershowitz says that the two lawyers representing her have defamed him .\n",
            "Those two lawyers are now counter-suing him for defamation .\n",
            "Paul Cassell and Bradley Edwards say their character has been attacked\n",
            "\n",
            "Sarah Ernhart, the owner of Sarah Beth Photography in Minneapolis,  created these tender snaps .\n",
            "She dubbed the shoot a 'Joy Session' in which she records owners' last moments with pets .\n",
            "Her service has been so popular Mrs Ernhart has had more than 100 shoots with owners and their pets\n",
            "\n",
            "Manchester United beat Southampton 2-1 at St Mary's on Monday night .\n",
            "Paddy McNair was substituted by Louis van Gaal after only 39 minutes .\n",
            "Van Gaal admitted he 'had to' replace the 19-year-old against Saints .\n",
            "United boss said McNair 'had no confidence' after struggling early on .\n",
            "But Van Gaal is adamant substitution was 'in best interests' of McNair\n",
            "\n",
            "U.S. corporations merge with foreign companies, move their headquarters .\n",
            "McIntyre: Such \"inversions\" enable firms to greatly lower their U.S. corporate tax bill .\n",
            "He says government can lose billions of tax revenue from such maneuvers .\n",
            "McIntyre: Congress should pass administration proposal to bar inversions\n",
            "\n",
            "Half of Brits admit to checking work e-mails while on holiday, while a third regret spending so much time on them .\n",
            "Rural getaways are becoming more popular in 'digital detox' revolution, many with no signal and no Wi-Fi .\n",
            "Offers a chance to leave smartphones and tablets firmly switched off and enjoy the sights and scenery\n",
            "\n",
            "Dencia's comment is hypocritical considering she recently courted controversy for marketing 'dark spot remover' Whitenicious, which is frequently used as a skin-whitening cream\n",
            "\n",
            "Ex-military chiefs suggested .\n",
            "stepping up Special Forces operations to âspoil the dayâ of fanatics, including British Muslims, in northern .\n",
            "Iraq .\n",
            "Air Chief Marshal Sir Michael Graydon, and Air Commodore Andrew Lambert, called for Britain to ramp .\n",
            "up military options in Iraq .\n",
            "They spoke out after gruesome murderer of US journalist James Foley â apparently by a British jihadist, claiming it was in revenge for US .\n",
            "air strikes\n",
            "\n",
            "Claudia Yanira Hernandez Soriano, 25, and Juan Francisco Martinez Rojas, 28, started fighting after returning from a party on Monday morning .\n",
            "When his mother, Ana Angelina Rojas-Jovel, 45, tried to stop them, Hernandez Soriano allegedly assaulted her .\n",
            "She suffered cardiac arrest and police arrived to find her dead .\n",
            "A seven-year-old girl witnessed the fight\n",
            "\n",
            "Airstrike kills nine Syrians in refugee camp, state media reports .\n",
            "Syria has fired into Lebanon before .\n",
            "The government has accused rebels of smuggling arms across the border with Lebanon\n",
            "\n"
          ]
        }
      ]
    },
    {
      "cell_type": "code",
      "source": [
        "text_summaries"
      ],
      "metadata": {
        "colab": {
          "base_uri": "https://localhost:8080/"
        },
        "id": "FUDblyrRAzz3",
        "outputId": "26bab685-e879-4e7e-e562-0d3c2b85efc8"
      },
      "execution_count": 23,
      "outputs": [
        {
          "output_type": "execute_result",
          "data": {
            "text/plain": [
              "['Bishop John Folda, of North Dakota, is taking time off after being diagnosed .\\nHe contracted the infection through contaminated food in Italy .\\nChurch members in Fargo, Grand Forks and Jamestown could have been exposed',\n",
              " 'Criminal complaint: Cop used his role to help cocaine traffickers .\\nRalph Mata, an internal affairs lieutenant, allegedly helped group get guns .\\nHe also arranged to pay two assassins in a murder plot, a complaint alleges',\n",
              " \"Craig Eccleston-Todd, 27, had drunk at least three pints before driving car .\\nWas using phone when he veered across road in Yarmouth, Isle of Wight .\\nCrashed head-on into 28-year-old Rachel Titley's car, who died in hospital .\\nPolice say he would have been over legal drink-drive limit at time of crash .\\nHe was found guilty at Portsmouth Crown Court of causing death by dangerous driving\",\n",
              " \"Nina dos Santos says Europe must be ready to accept sanctions will hurt both sides .\\nTargeting Russia's business community would be one way of sapping their support for President Putin, she says .\\nBut she says Europe would have a hard time keeping its factories going without power from the east\",\n",
              " 'Fleetwood top of League One after 2-0 win at Scunthorpe .\\nPeterborough, Bristol City, Chesterfield and Crawley all drop first points of the season .\\nStand-in striker Matt Done scores a hat-trick as Rochdale thrash Crewe 5-2 .\\nWins for Notts County and Yeovil .\\nCoventry/Bradford and Oldham/Port Vale both end in draws .\\nA late Stephen Bywater own goal denies Gillingham three points against Millwall',\n",
              " 'Prime Minister and his family are enjoying an Easter break in Lanzarote .\\nSported the same Â£20.99 beige loafers as he wore in Portugal last year .\\nPM sat and had a drink at a beach-side cafe on the Spanish Island',\n",
              " 'NBA star calls for black and Hispanic communities to get tested .\\nFormer Lakers player dedicated life to raising awareness about disease',\n",
              " \"London Midland service had been pulling into Telford Station in Shropshire .\\nPassenger Chris Downes, 46, was recording on his mobile at the time .\\nAnnouncer can clearly be heard saying: 'Telford Central - please be aware of pickpockets and gipsies'\\nLondon Midland said it is now launching an investigation into the incident\",\n",
              " 'Tony Pulis believes Saido Berahino should look up to Darren Fletcher .\\nPulis insists Berahino has been listened to the wrong advice .\\nBerahino said he wants to move on to bigger things earlier in the week .\\nREAD: Berahino available for Â£20m after Liverpool target angers club .\\nCLICK HERE for all the latest West Brom news',\n",
              " 'Black box data from Flight 370 could be analyzed at a laboratory in Australia .\\nEven if the flight data recorder is damaged, information is retrievable .\\nAbout 2,000 parameters are decoded, like altitude, engine performance and cabin pressure .\\nThe data is used to create a visual representation, helping the public understand an accident',\n",
              " 'The distortion is the result of the Mercator map which was created in 1596 to help sailors navigate the world .\\nIt gives the right shapes of countries but at the cost of distorting sizes in favour of the wealthy lands to the north .\\nFor instance, north America looks larger, or at least as big, as Africa, and Greenland also looks of comparable size .\\nIn reality, you can fit north America into Africa and still have space for India, Argentina, Tunisia and some left over .\\nMap suggests Scandinavian countries are larger than India, whereas in reality India is three times the size .\\nThe biggest challenge for cartographers is that it is impossible to portray reality of spherical world on a flat map',\n",
              " 'Alan Dershowitz has filed defamation suits against two other U.S lawyers .\\nHe is accused of having sex with Virginia Roberts when she was a minor .\\nDershowitz says that the two lawyers representing her have defamed him .\\nThose two lawyers are now counter-suing him for defamation .\\nPaul Cassell and Bradley Edwards say their character has been attacked',\n",
              " \"Sarah Ernhart, the owner of Sarah Beth Photography in Minneapolis,  created these tender snaps .\\nShe dubbed the shoot a 'Joy Session' in which she records owners' last moments with pets .\\nHer service has been so popular Mrs Ernhart has had more than 100 shoots with owners and their pets\",\n",
              " \"Manchester United beat Southampton 2-1 at St Mary's on Monday night .\\nPaddy McNair was substituted by Louis van Gaal after only 39 minutes .\\nVan Gaal admitted he 'had to' replace the 19-year-old against Saints .\\nUnited boss said McNair 'had no confidence' after struggling early on .\\nBut Van Gaal is adamant substitution was 'in best interests' of McNair\",\n",
              " 'U.S. corporations merge with foreign companies, move their headquarters .\\nMcIntyre: Such \"inversions\" enable firms to greatly lower their U.S. corporate tax bill .\\nHe says government can lose billions of tax revenue from such maneuvers .\\nMcIntyre: Congress should pass administration proposal to bar inversions',\n",
              " \"Half of Brits admit to checking work e-mails while on holiday, while a third regret spending so much time on them .\\nRural getaways are becoming more popular in 'digital detox' revolution, many with no signal and no Wi-Fi .\\nOffers a chance to leave smartphones and tablets firmly switched off and enjoy the sights and scenery\",\n",
              " \"Dencia's comment is hypocritical considering she recently courted controversy for marketing 'dark spot remover' Whitenicious, which is frequently used as a skin-whitening cream\",\n",
              " 'Ex-military chiefs suggested .\\nstepping up Special Forces operations to â\\x80\\x98spoil the dayâ\\x80\\x99 of fanatics, including British Muslims, in northern .\\nIraq .\\nAir Chief Marshal Sir Michael Graydon, and Air Commodore Andrew Lambert, called for Britain to ramp .\\nup military options in Iraq .\\nThey spoke out after gruesome murderer of US journalist James Foley â\\x80\\x93 apparently by a British jihadist, claiming it was in revenge for US .\\nair strikes',\n",
              " 'Claudia Yanira Hernandez Soriano, 25, and Juan Francisco Martinez Rojas, 28, started fighting after returning from a party on Monday morning .\\nWhen his mother, Ana Angelina Rojas-Jovel, 45, tried to stop them, Hernandez Soriano allegedly assaulted her .\\nShe suffered cardiac arrest and police arrived to find her dead .\\nA seven-year-old girl witnessed the fight',\n",
              " 'Airstrike kills nine Syrians in refugee camp, state media reports .\\nSyria has fired into Lebanon before .\\nThe government has accused rebels of smuggling arms across the border with Lebanon']"
            ]
          },
          "metadata": {},
          "execution_count": 23
        }
      ]
    },
    {
      "cell_type": "code",
      "source": [
        "for x in range(20):\n",
        "    model_summary = model1.predict(df['source_text'][x])\n",
        "    \n",
        "    model_summaries.append(model_summary)\n",
        "    print(model_summaries[x])"
      ],
      "metadata": {
        "colab": {
          "base_uri": "https://localhost:8080/"
        },
        "id": "Dxg3rLaEA4QO",
        "outputId": "da9cce90-9fe7-476a-befa-b7b9b7f05bc4"
      },
      "execution_count": 20,
      "outputs": [
        {
          "output_type": "stream",
          "name": "stderr",
          "text": [
            "Token indices sequence length is longer than the specified maximum sequence length for this model (548 > 512). Running this sequence through the model will result in indexing errors\n"
          ]
        },
        {
          "output_type": "stream",
          "name": "stdout",
          "text": [
            "[\"the bishop of the fargo Catholic diocese in north. Dakota has exposed potentially hundreds of church members to the hepatitis. A virus in late September and early October. the risk is low, but officials feel it's important to alert people to the possible exposure.\"]\n",
            "['mata was an internal affairs lieutenant for the Miami-Dade police department. authorities allege he helped plan a murder plot and get guns. in one instance, he arranged to pay two assassins to kill rival drug dealers.']\n",
            "['Craig Eccleston-Todd, 27, was driving home from a night at a pub. as he was reading or replying to text he veered across road and hit car. miss titley, 28, died later from her injuries in hospital. police said he had drunk at least three or four pints of beer before getting behind wheel.']\n",
            "[\"european leaders must be ready to accept sanctions are a two-way street. targeting Russia's peripatetic business community would be one way of sapping support for Putin. but where Europe should hold fire though is trade, says nicolaus mills.\"]\n",
            "['2-0 win over Scunthorpe puts Fleetwood top of the table. Bristol City held to goalless draw by leyton orient while Chesterfield lose 1-0 at home by MK dons. notts county record 2-1 home win over colchester.']\n",
            "['the prime minister is in Lanzarote with his family.']\n",
            "['basketball legend was told he had HIV in 1991, when he was two months pregnant. but a meeting with aids activist Elizabeth Glaser helped him come to terms with the diagnosis. he is now campaigning for more people to get tested for the disease.']\n",
            "[\"train announcer stunned passengers by announcing over a tannoy. it was pulling into Telford station, Shropshire, on Saturday when comments were made. the remark was mainly greeted by cheers from football fans travelling back from their game against Wolverhampton Wanderers. but other passengers and residents of Telford reacted with disgust at the 'unprofessional' and 'offensive' comments.\"]\n",
            "['Darren fletcher has signed for west brom on a three-and-a-half year deal. the striker will be asked to provide a role model for young players. he said this week that he wanted to play for a bigger club.']\n",
            "['flight data recorders from MH370 could be brought to australia if they\\'re recovered. only part of the black box that investigators need intact is a small rectangular box. \"anything you can do to improve safety, improve the safety of the traveling public,\" says senior transport safety investigator.']\n",
            "['the Mercator projection was created in 1596 to help sailors navigate the world. it gives the right shapes of land masses, but at the cost of distorting their sizes in favour of the wealthy lands to the north. this is due to technical reasons, while others are caused by ideological assumptions that can change the way we view the world.']\n",
            "[\"former federal judge Paul Cassell and Florida plaintiffs. attorney Bradley Edwards filed the lawsuit in a florida circuit. court last week. they say their client, Virginia Roberts, was forced. as a minor by financier Jeffrey Epstein to have sex with several. people, including Dershowitz and Prince Andrew. on Monday dershowitz filed defamation suits in both London and the u.s. based on the lawyers' public statements about the case and urged prince \"]\n",
            "['photographer Sarah Ernhart began offering the service in 2010. she has had more than 100 shoots with owners and their pets.']\n",
            "[\"paddy McNair was substituted after only 39 minutes against Southampton. the 19-year-old had been struggling to contain Shane Long and Graziano Pelle. but manager louis van gaal admitted he 'had to' replace him prematurely.\"]\n",
            "[\"corporations are merging with foreign companies to avoid taxes. john avlon: inversions are just another ploy that corporations use to reduce or eliminate their tax bills. he says congress can easily fix this by moving forward with a white house proposal. avlon: it's time for congress to act on corporate inversions, which could provide $19.5 billion in revenue.\"]\n",
            "[\"digital detox holidays offer the chance to leave your smartphone at home. half of all people polled admit to checking work e-mails while away. four in 10 say having access to social media is'very important' on holiday.\"]\n",
            "[\"in a tweet directed at the 12 Years A Slave star, she wrote: 'Oh @Lupita_Nyongo cln't talk abt the bleaching creams white people (Companies) make cuz the white man pays her, they own her!!'\"]\n",
            "[\"ex-military chiefs urge stepping up special forces operations to'spoil day' of fanatics. they spoke out after gruesome images were published on the internet of a jihadist killing US journalist James Foley.\"]\n",
            "['Claudia Yanira Hernandez Soriano, 25, and Juan Francisco Martinez Rojas, 28, started punching and scratching each other at their home on monday. when his mother tried to stop them fighting, she allegedly assaulted the woman. during the assault, the woman suffered a cardiac arrest and died before police arrived at the scene.']\n",
            "['the strike centered on a refugee camp near the Syrian border. the red cross took the casualties to universal hospital in baalbek.']\n"
          ]
        }
      ]
    },
    {
      "cell_type": "code",
      "source": [
        "model_summaries = model_summaries[:20]"
      ],
      "metadata": {
        "id": "SqESKbe6dpYW"
      },
      "execution_count": 21,
      "outputs": []
    },
    {
      "cell_type": "code",
      "source": [
        "model_summaries"
      ],
      "metadata": {
        "colab": {
          "base_uri": "https://localhost:8080/"
        },
        "id": "8e0X47Y2g3Os",
        "outputId": "21111078-dbce-46cb-cbc3-eb63b1e41439"
      },
      "execution_count": 22,
      "outputs": [
        {
          "output_type": "execute_result",
          "data": {
            "text/plain": [
              "[[\"the bishop of the fargo Catholic diocese in north. Dakota has exposed potentially hundreds of church members to the hepatitis. A virus in late September and early October. the risk is low, but officials feel it's important to alert people to the possible exposure.\"],\n",
              " ['mata was an internal affairs lieutenant for the Miami-Dade police department. authorities allege he helped plan a murder plot and get guns. in one instance, he arranged to pay two assassins to kill rival drug dealers.'],\n",
              " ['Craig Eccleston-Todd, 27, was driving home from a night at a pub. as he was reading or replying to text he veered across road and hit car. miss titley, 28, died later from her injuries in hospital. police said he had drunk at least three or four pints of beer before getting behind wheel.'],\n",
              " [\"european leaders must be ready to accept sanctions are a two-way street. targeting Russia's peripatetic business community would be one way of sapping support for Putin. but where Europe should hold fire though is trade, says nicolaus mills.\"],\n",
              " ['2-0 win over Scunthorpe puts Fleetwood top of the table. Bristol City held to goalless draw by leyton orient while Chesterfield lose 1-0 at home by MK dons. notts county record 2-1 home win over colchester.'],\n",
              " ['the prime minister is in Lanzarote with his family.'],\n",
              " ['basketball legend was told he had HIV in 1991, when he was two months pregnant. but a meeting with aids activist Elizabeth Glaser helped him come to terms with the diagnosis. he is now campaigning for more people to get tested for the disease.'],\n",
              " [\"train announcer stunned passengers by announcing over a tannoy. it was pulling into Telford station, Shropshire, on Saturday when comments were made. the remark was mainly greeted by cheers from football fans travelling back from their game against Wolverhampton Wanderers. but other passengers and residents of Telford reacted with disgust at the 'unprofessional' and 'offensive' comments.\"],\n",
              " ['Darren fletcher has signed for west brom on a three-and-a-half year deal. the striker will be asked to provide a role model for young players. he said this week that he wanted to play for a bigger club.'],\n",
              " ['flight data recorders from MH370 could be brought to australia if they\\'re recovered. only part of the black box that investigators need intact is a small rectangular box. \"anything you can do to improve safety, improve the safety of the traveling public,\" says senior transport safety investigator.'],\n",
              " ['the Mercator projection was created in 1596 to help sailors navigate the world. it gives the right shapes of land masses, but at the cost of distorting their sizes in favour of the wealthy lands to the north. this is due to technical reasons, while others are caused by ideological assumptions that can change the way we view the world.'],\n",
              " [\"former federal judge Paul Cassell and Florida plaintiffs. attorney Bradley Edwards filed the lawsuit in a florida circuit. court last week. they say their client, Virginia Roberts, was forced. as a minor by financier Jeffrey Epstein to have sex with several. people, including Dershowitz and Prince Andrew. on Monday dershowitz filed defamation suits in both London and the u.s. based on the lawyers' public statements about the case and urged prince \"],\n",
              " ['photographer Sarah Ernhart began offering the service in 2010. she has had more than 100 shoots with owners and their pets.'],\n",
              " [\"paddy McNair was substituted after only 39 minutes against Southampton. the 19-year-old had been struggling to contain Shane Long and Graziano Pelle. but manager louis van gaal admitted he 'had to' replace him prematurely.\"],\n",
              " [\"corporations are merging with foreign companies to avoid taxes. john avlon: inversions are just another ploy that corporations use to reduce or eliminate their tax bills. he says congress can easily fix this by moving forward with a white house proposal. avlon: it's time for congress to act on corporate inversions, which could provide $19.5 billion in revenue.\"],\n",
              " [\"digital detox holidays offer the chance to leave your smartphone at home. half of all people polled admit to checking work e-mails while away. four in 10 say having access to social media is'very important' on holiday.\"],\n",
              " [\"in a tweet directed at the 12 Years A Slave star, she wrote: 'Oh @Lupita_Nyongo cln't talk abt the bleaching creams white people (Companies) make cuz the white man pays her, they own her!!'\"],\n",
              " [\"ex-military chiefs urge stepping up special forces operations to'spoil day' of fanatics. they spoke out after gruesome images were published on the internet of a jihadist killing US journalist James Foley.\"],\n",
              " ['Claudia Yanira Hernandez Soriano, 25, and Juan Francisco Martinez Rojas, 28, started punching and scratching each other at their home on monday. when his mother tried to stop them fighting, she allegedly assaulted the woman. during the assault, the woman suffered a cardiac arrest and died before police arrived at the scene.'],\n",
              " ['the strike centered on a refugee camp near the Syrian border. the red cross took the casualties to universal hospital in baalbek.']]"
            ]
          },
          "metadata": {},
          "execution_count": 22
        }
      ]
    },
    {
      "cell_type": "code",
      "source": [],
      "metadata": {
        "id": "gCPqW67eg-kz"
      },
      "execution_count": null,
      "outputs": []
    },
    {
      "cell_type": "code",
      "source": [
        "for i in range(20):\n",
        "  model_summaries[i] = model_summaries[i][0]"
      ],
      "metadata": {
        "id": "lyiJYV4Hd_PI"
      },
      "execution_count": 26,
      "outputs": []
    },
    {
      "cell_type": "code",
      "source": [
        "model_summaries"
      ],
      "metadata": {
        "colab": {
          "base_uri": "https://localhost:8080/"
        },
        "id": "q8T0Se5qeO-6",
        "outputId": "cb7548ca-ac00-478d-e6cb-493d8d287516"
      },
      "execution_count": 27,
      "outputs": [
        {
          "output_type": "execute_result",
          "data": {
            "text/plain": [
              "[\"the bishop of the fargo Catholic diocese in north. Dakota has exposed potentially hundreds of church members to the hepatitis. A virus in late September and early October. the risk is low, but officials feel it's important to alert people to the possible exposure.\",\n",
              " 'mata was an internal affairs lieutenant for the Miami-Dade police department. authorities allege he helped plan a murder plot and get guns. in one instance, he arranged to pay two assassins to kill rival drug dealers.',\n",
              " 'Craig Eccleston-Todd, 27, was driving home from a night at a pub. as he was reading or replying to text he veered across road and hit car. miss titley, 28, died later from her injuries in hospital. police said he had drunk at least three or four pints of beer before getting behind wheel.',\n",
              " \"european leaders must be ready to accept sanctions are a two-way street. targeting Russia's peripatetic business community would be one way of sapping support for Putin. but where Europe should hold fire though is trade, says nicolaus mills.\",\n",
              " '2-0 win over Scunthorpe puts Fleetwood top of the table. Bristol City held to goalless draw by leyton orient while Chesterfield lose 1-0 at home by MK dons. notts county record 2-1 home win over colchester.',\n",
              " 'the prime minister is in Lanzarote with his family.',\n",
              " 'basketball legend was told he had HIV in 1991, when he was two months pregnant. but a meeting with aids activist Elizabeth Glaser helped him come to terms with the diagnosis. he is now campaigning for more people to get tested for the disease.',\n",
              " \"train announcer stunned passengers by announcing over a tannoy. it was pulling into Telford station, Shropshire, on Saturday when comments were made. the remark was mainly greeted by cheers from football fans travelling back from their game against Wolverhampton Wanderers. but other passengers and residents of Telford reacted with disgust at the 'unprofessional' and 'offensive' comments.\",\n",
              " 'Darren fletcher has signed for west brom on a three-and-a-half year deal. the striker will be asked to provide a role model for young players. he said this week that he wanted to play for a bigger club.',\n",
              " 'flight data recorders from MH370 could be brought to australia if they\\'re recovered. only part of the black box that investigators need intact is a small rectangular box. \"anything you can do to improve safety, improve the safety of the traveling public,\" says senior transport safety investigator.',\n",
              " 'the Mercator projection was created in 1596 to help sailors navigate the world. it gives the right shapes of land masses, but at the cost of distorting their sizes in favour of the wealthy lands to the north. this is due to technical reasons, while others are caused by ideological assumptions that can change the way we view the world.',\n",
              " \"former federal judge Paul Cassell and Florida plaintiffs. attorney Bradley Edwards filed the lawsuit in a florida circuit. court last week. they say their client, Virginia Roberts, was forced. as a minor by financier Jeffrey Epstein to have sex with several. people, including Dershowitz and Prince Andrew. on Monday dershowitz filed defamation suits in both London and the u.s. based on the lawyers' public statements about the case and urged prince \",\n",
              " 'photographer Sarah Ernhart began offering the service in 2010. she has had more than 100 shoots with owners and their pets.',\n",
              " \"paddy McNair was substituted after only 39 minutes against Southampton. the 19-year-old had been struggling to contain Shane Long and Graziano Pelle. but manager louis van gaal admitted he 'had to' replace him prematurely.\",\n",
              " \"corporations are merging with foreign companies to avoid taxes. john avlon: inversions are just another ploy that corporations use to reduce or eliminate their tax bills. he says congress can easily fix this by moving forward with a white house proposal. avlon: it's time for congress to act on corporate inversions, which could provide $19.5 billion in revenue.\",\n",
              " \"digital detox holidays offer the chance to leave your smartphone at home. half of all people polled admit to checking work e-mails while away. four in 10 say having access to social media is'very important' on holiday.\",\n",
              " \"in a tweet directed at the 12 Years A Slave star, she wrote: 'Oh @Lupita_Nyongo cln't talk abt the bleaching creams white people (Companies) make cuz the white man pays her, they own her!!'\",\n",
              " \"ex-military chiefs urge stepping up special forces operations to'spoil day' of fanatics. they spoke out after gruesome images were published on the internet of a jihadist killing US journalist James Foley.\",\n",
              " 'Claudia Yanira Hernandez Soriano, 25, and Juan Francisco Martinez Rojas, 28, started punching and scratching each other at their home on monday. when his mother tried to stop them fighting, she allegedly assaulted the woman. during the assault, the woman suffered a cardiac arrest and died before police arrived at the scene.',\n",
              " 'the strike centered on a refugee camp near the Syrian border. the red cross took the casualties to universal hospital in baalbek.']"
            ]
          },
          "metadata": {},
          "execution_count": 27
        }
      ]
    },
    {
      "cell_type": "code",
      "source": [
        "pip install rouge"
      ],
      "metadata": {
        "colab": {
          "base_uri": "https://localhost:8080/"
        },
        "id": "viAIz8tjEeFD",
        "outputId": "03cf514a-7044-4280-de3a-f9419e4e93ee"
      },
      "execution_count": 28,
      "outputs": [
        {
          "output_type": "stream",
          "name": "stdout",
          "text": [
            "Looking in indexes: https://pypi.org/simple, https://us-python.pkg.dev/colab-wheels/public/simple/\n",
            "Requirement already satisfied: rouge in /usr/local/lib/python3.10/dist-packages (1.0.1)\n",
            "Requirement already satisfied: six in /usr/local/lib/python3.10/dist-packages (from rouge) (1.16.0)\n"
          ]
        }
      ]
    },
    {
      "cell_type": "code",
      "source": [
        "from rouge import Rouge\n",
        "\n",
        "rouge = Rouge()\n",
        "rouge.get_scores(summary_model, model_summaries, avg=True, ignore_empty=True)"
      ],
      "metadata": {
        "colab": {
          "base_uri": "https://localhost:8080/"
        },
        "id": "JiCeYiKkEefB",
        "outputId": "888fe107-803a-4dbe-b0ab-9e1d66c82bd8"
      },
      "execution_count": 31,
      "outputs": [
        {
          "output_type": "execute_result",
          "data": {
            "text/plain": [
              "{'rouge-1': {'r': 0.3792830129228589,\n",
              "  'p': 0.28979853253632315,\n",
              "  'f': 0.31631756633269165},\n",
              " 'rouge-2': {'r': 0.17326173740361567,\n",
              "  'p': 0.11708019389506759,\n",
              "  'f': 0.1332364833289402},\n",
              " 'rouge-l': {'r': 0.3509846042169852,\n",
              "  'p': 0.26957271405352434,\n",
              "  'f': 0.2940452009016082}}"
            ]
          },
          "metadata": {},
          "execution_count": 31
        }
      ]
    },
    {
      "cell_type": "code",
      "source": [
        "text_inputt = \"\"\"The battle has also highlighted an extraordinary rift among Russian forces, with Prigozhin at one point accusing a Russian brigade of abandoning its position in the city and railing several times at the Defense Ministry over a lack of ammunition.\n",
        "\n",
        "Prigozhin, a former catering boss who has grown in prominence throughout the war, compared the battlefield to a “meat grinder.”\n",
        "\n",
        "Bakhmut’s fall would be an undoubted boost to Prigozhin, who recently announced his men would pull out entirely because dwindling ammunition supplies and mounting losses meant there was “nothing left to grind the meat with.”\"\"\""
      ],
      "metadata": {
        "id": "ACqt823ElHLI"
      },
      "execution_count": 32,
      "outputs": []
    },
    {
      "cell_type": "code",
      "source": [
        "predictt = model1.predict(text_inputt)"
      ],
      "metadata": {
        "id": "WeRFYE9uliej"
      },
      "execution_count": 33,
      "outputs": []
    },
    {
      "cell_type": "code",
      "source": [
        "predictt"
      ],
      "metadata": {
        "colab": {
          "base_uri": "https://localhost:8080/"
        },
        "id": "1xtUT6Zwly9r",
        "outputId": "fcbf1195-5da2-4261-ff49-e4115a7db18c"
      },
      "execution_count": 34,
      "outputs": [
        {
          "output_type": "execute_result",
          "data": {
            "text/plain": [
              "['Prigozhin has repeatedly accused the Defense Ministry of abandoning its position in Bakhmut over a lack of ammunition. Prigozhin recently announced his men would pull out entirely because there was “nothing left to grind the meat with.”']"
            ]
          },
          "metadata": {},
          "execution_count": 34
        }
      ]
    }
  ]
}